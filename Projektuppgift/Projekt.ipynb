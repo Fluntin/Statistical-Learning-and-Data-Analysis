{
 "cells": [
  {
   "cell_type": "code",
   "execution_count": 72,
   "metadata": {},
   "outputs": [],
   "source": [
    "\n",
    "# Importing necessary libraries for data manipulation and visualization\n",
    "import numpy as np\n",
    "import pandas as pd\n",
    "import matplotlib.pyplot as plt\n",
    "from scipy import stats\n",
    "import scipy.special as sp\n",
    "import csv"
   ]
  },
  {
   "cell_type": "code",
   "execution_count": 73,
   "metadata": {},
   "outputs": [],
   "source": [
    "# Get the data\n",
    "df = pd.read_csv(\"Datafil.csv\")"
   ]
  },
  {
   "cell_type": "markdown",
   "metadata": {},
   "source": [
    "# 1 Warm-up\n",
    "The following tasks are designed to familiarize you with the dataset and prepare the data for use when building your predictive models."
   ]
  },
  {
   "cell_type": "markdown",
   "metadata": {},
   "source": [
    "### (a) \n",
    "All scores in the dataframe are currently numbers between 0 and 10. Normalize these values in the dataframe so that they range between 0 and 1.\n"
   ]
  },
  {
   "cell_type": "code",
   "execution_count": 74,
   "metadata": {},
   "outputs": [],
   "source": [
    "def normalize_scores(df):\n",
    "    # Normalize scores (from 6th column onwards)\n",
    "    for col in df.columns[5:]:\n",
    "        df[col] = df[col].apply(lambda x: x/10 if x == x else x)  # handle NaN values\n",
    "    print(df)"
   ]
  },
  {
   "cell_type": "code",
   "execution_count": 75,
   "metadata": {},
   "outputs": [
    {
     "name": "stdout",
     "output_type": "stream",
     "text": [
      "           id      location  month  year        comp  heat  run 1  run 2  \\\n",
      "0      Berger  jacksonville      7  2022  prelim men   0.1   0.50   0.11   \n",
      "1        Papa  jacksonville      7  2022  prelim men   0.1   0.37   0.70   \n",
      "2     Pudwill  jacksonville      7  2022  prelim men   0.1   0.20   0.13   \n",
      "3      Shirai  jacksonville      7  2022  prelim men   0.1   0.79   0.70   \n",
      "4        Mota  jacksonville      7  2022  prelim men   0.1   0.38   0.40   \n",
      "..        ...           ...    ...   ...         ...   ...    ...    ...   \n",
      "92      Hoban     las vegas     10  2022   final men   0.1   0.62   0.88   \n",
      "93    Hoefler     las vegas     10  2022   final men   0.1   0.84   0.57   \n",
      "94      Eaton     las vegas     10  2022   final men   0.1   0.69   0.72   \n",
      "95     Joslin     las vegas     10  2022   final men   0.1   0.68   0.83   \n",
      "96  Ribeiro G     las vegas     10  2022   final men   0.1   0.85   0.30   \n",
      "\n",
      "    trick 1  trick 2  trick 3  trick 4  trick 5  trick 6  \n",
      "0      0.70     0.00     0.76     0.00      NaN      NaN  \n",
      "1      0.72     0.00     0.84     0.82      NaN      NaN  \n",
      "2      0.00     0.00     0.00     0.00      NaN      NaN  \n",
      "3      0.75     0.00     0.92     0.00      NaN      NaN  \n",
      "4      0.78     0.00     0.00     0.00      NaN      NaN  \n",
      "..      ...      ...      ...      ...      ...      ...  \n",
      "92     0.86     0.00     0.88     0.00     0.00     0.00  \n",
      "93     0.78     0.00     0.87     0.00     0.00     0.00  \n",
      "94     0.00     0.84     0.75     0.00      NaN      NaN  \n",
      "95     0.79     0.83     0.00     0.00     0.89     0.94  \n",
      "96     0.00     0.92     0.88     0.92     0.00     0.17  \n",
      "\n",
      "[97 rows x 14 columns]\n"
     ]
    }
   ],
   "source": [
    "normalize_scores(df)"
   ]
  },
  {
   "cell_type": "markdown",
   "metadata": {},
   "source": [
    "### (b) \n",
    "Create a histogram for all trick scores for tricks 1-4. \n",
    "- What do you observe? \n",
    "- Is there a particular value that appears more often than the others? \n",
    "- If so, how does this value compare to the others?"
   ]
  },
  {
   "cell_type": "code",
   "execution_count": 76,
   "metadata": {},
   "outputs": [],
   "source": [
    "# b) here i create a histogram fr normalized data\n",
    "def plot_histograms(datafile):\n",
    "    # List of tricks\n",
    "    tricks = [\"trick 1\", \"trick 2\", \"trick 3\", \"trick 4\"]\n",
    "\n",
    "    # Plot histograms for each trick\n",
    "    for idx, trick in enumerate(tricks, 1):\n",
    "        plt.subplot(2, 2, idx)  # 2x2 grid of histograms\n",
    "        plt.hist(df[trick].dropna(), bins=20, alpha=0.7, color='blue')  # dropna() ensures NaN values are ignored\n",
    "        plt.title(f\"Histogram of {trick}\")\n",
    "        plt.xlabel(\"Score\")\n",
    "        plt.ylabel(\"Frequency\")\n",
    "\n",
    "    # Adjust layout to prevent overlaps and show the plot\n",
    "    plt.tight_layout()\n",
    "    plt.show()"
   ]
  },
  {
   "cell_type": "code",
   "execution_count": 77,
   "metadata": {},
   "outputs": [
    {
     "data": {
      "image/png": "[encoded data removed]",
      "text/plain": [
       "<Figure size 640x480 with 4 Axes>"
      ]
     },
     "metadata": {},
     "output_type": "display_data"
    }
   ],
   "source": [
    "plot_histograms(df)"
   ]
  },
  {
   "cell_type": "markdown",
   "metadata": {},
   "source": [
    "*From our observations, the most common score for each trick is zero, by a significant margin. The majority of other scores fall within the 0.6 to 0.9 range, with a noticeable lack of scores between 0 and 0.6. This pattern suggests that contestants tend to attempt more challenging tricks, which typically result in either failure (yielding a score of zero) or a relatively high score. This behavior indicates a tendency to bypass tricks of easy to medium difficulty.*"
   ]
  },
  {
   "cell_type": "markdown",
   "metadata": {},
   "source": [
    "### (c)\n",
    "For each trick (1-4), create a new column named 'make i' for \\(i=1,2,3,4\\). The value of 'make i' in a given row should be 1 if the skateboarder successfully landed trick \\(i\\) and 0 otherwise."
   ]
  },
  {
   "cell_type": "code",
   "execution_count": 78,
   "metadata": {},
   "outputs": [],
   "source": [
    "def add_make_columns(df):\n",
    "    # Loop through each trick column\n",
    "    for i in range(1, 5):\n",
    "        trick_column = f\"trick {i}\"\n",
    "        \n",
    "        # Assuming a trick is executed if its score > 0\n",
    "        df[f\"make {i}\"] = df[trick_column].apply(lambda x: 1 if x > 0 else 0)\n",
    "    \n",
    "    print(df)"
   ]
  },
  {
   "cell_type": "code",
   "execution_count": 79,
   "metadata": {},
   "outputs": [
    {
     "name": "stdout",
     "output_type": "stream",
     "text": [
      "           id      location  month  year        comp  heat  run 1  run 2  \\\n",
      "0      Berger  jacksonville      7  2022  prelim men   0.1   0.50   0.11   \n",
      "1        Papa  jacksonville      7  2022  prelim men   0.1   0.37   0.70   \n",
      "2     Pudwill  jacksonville      7  2022  prelim men   0.1   0.20   0.13   \n",
      "3      Shirai  jacksonville      7  2022  prelim men   0.1   0.79   0.70   \n",
      "4        Mota  jacksonville      7  2022  prelim men   0.1   0.38   0.40   \n",
      "..        ...           ...    ...   ...         ...   ...    ...    ...   \n",
      "92      Hoban     las vegas     10  2022   final men   0.1   0.62   0.88   \n",
      "93    Hoefler     las vegas     10  2022   final men   0.1   0.84   0.57   \n",
      "94      Eaton     las vegas     10  2022   final men   0.1   0.69   0.72   \n",
      "95     Joslin     las vegas     10  2022   final men   0.1   0.68   0.83   \n",
      "96  Ribeiro G     las vegas     10  2022   final men   0.1   0.85   0.30   \n",
      "\n",
      "    trick 1  trick 2  trick 3  trick 4  trick 5  trick 6  make 1  make 2  \\\n",
      "0      0.70     0.00     0.76     0.00      NaN      NaN       1       0   \n",
      "1      0.72     0.00     0.84     0.82      NaN      NaN       1       0   \n",
      "2      0.00     0.00     0.00     0.00      NaN      NaN       0       0   \n",
      "3      0.75     0.00     0.92     0.00      NaN      NaN       1       0   \n",
      "4      0.78     0.00     0.00     0.00      NaN      NaN       1       0   \n",
      "..      ...      ...      ...      ...      ...      ...     ...     ...   \n",
      "92     0.86     0.00     0.88     0.00     0.00     0.00       1       0   \n",
      "93     0.78     0.00     0.87     0.00     0.00     0.00       1       0   \n",
      "94     0.00     0.84     0.75     0.00      NaN      NaN       0       1   \n",
      "95     0.79     0.83     0.00     0.00     0.89     0.94       1       1   \n",
      "96     0.00     0.92     0.88     0.92     0.00     0.17       0       1   \n",
      "\n",
      "    make 3  make 4  \n",
      "0        1       0  \n",
      "1        1       1  \n",
      "2        0       0  \n",
      "3        1       0  \n",
      "4        0       0  \n",
      "..     ...     ...  \n",
      "92       1       0  \n",
      "93       1       0  \n",
      "94       1       0  \n",
      "95       0       0  \n",
      "96       1       1  \n",
      "\n",
      "[97 rows x 18 columns]\n"
     ]
    }
   ],
   "source": [
    "add_make_columns(df)"
   ]
  },
  {
   "cell_type": "markdown",
   "metadata": {},
   "source": [
    "### (d)\n",
    "For each skateboarder, estimate the probability that a trick receives a score greater than 0.6, given that the skateboarder successfully lands the trick. \n",
    "- What is the probability that the skateboarder fails to land a particular trick? \n",
    "- What observations can you make? Relate your findings to your observations in part (b)."
   ]
  },
  {
   "cell_type": "code",
   "execution_count": 80,
   "metadata": {},
   "outputs": [],
   "source": [
    "# d) Given that they make a trick estimate the probability of them getting a score that's higher than 0.6\n",
    "def estimate_probabilities(df):\n",
    "    # Here we group by skateboarder's name.\n",
    "    # This is becouse I want to have only one row for each skateboarder.\n",
    "    grouped_df = df.groupby('id')\n",
    "\n",
    "    results = []\n",
    "\n",
    "    for name, group in grouped_df:\n",
    "        # Number of tricks successfully landed for all locations\n",
    "        successful_tricks = group[[f\"trick {i}\" for i in range(1, 6)]].applymap(lambda x: 1 if x > 0 else 0).sum().sum()\n",
    "        # For every element (score) in the trick columns, this applies a function that converts it to 1 if it's greater than 0.\n",
    "        # Then it sums all the 1s in the dataframe.\n",
    "        # Then it sums all the 1s in the resulting series.\n",
    "        # This gives us the total number of tricks successfully landed for all locations.\n",
    "        # Note that this is not the same as the total number of tricks successfully landed for each location.\n",
    "        # For example, if a skateboarder landed 3 tricks in location 1 and 2 tricks in location 2, this will return 5.\n",
    "        \n",
    "        # Number of tricks with score >= 0.6 across all locations\n",
    "        tricks_score_more_than_06 = group[[f\"trick {i}\" for i in range(1, 6)]].applymap(lambda x: 1 if x >= 0.6 else 0).sum().sum()\n",
    "        # Same as above, but for tricks with score >= 0.6\n",
    "\n",
    "        # Probability that a trick receives a score greater than 0.6 given the trick was landed\n",
    "        prob_success_given_landed = tricks_score_more_than_06 / successful_tricks if successful_tricks > 0 else 0\n",
    "        # If the skateboarder didn't land any tricks, we set the probability to 0.\n",
    "        # Otherwise, we divide the number of tricks with score >= 0.6 by the total number of tricks successfully landed.\n",
    "        # This gives us the probability that a trick receives a score greater than 0.6 given the trick was landed.\n",
    "        \n",
    "        # Probability that the skateboarder fails to land a trick\n",
    "        total_tricks = group[[f\"trick {i}\" for i in range(1, 6)]].count().sum()\n",
    "        failed_tricks = group[[f\"trick {i}\" for i in range(1, 6)]].applymap(lambda x: 1 if x == 0 else 0).sum().sum()\n",
    "        prob_failure = failed_tricks / total_tricks\n",
    "        # Same as above, but for tricks with score = 0.\n",
    "        # This gives us the probability that the skateboarder fails to land a trick.\n",
    "        # Note that this is not the same as the probability that the skateboarder fails to land a trick given the trick was landed.\n",
    "        # For example, if a skateboarder landed 3 tricks in location 1 and 2 tricks in location 2, this will return 0.4.\n",
    "        \n",
    "        results.append((name, prob_success_given_landed, prob_failure))\n",
    "    \n",
    "    for name, success_given_landed, failure in results:\n",
    "        print(f\"Skateboarder {name}: P(Score > 0.6 | Landed) = {success_given_landed:.2f}, P(Failure) = {failure:.2f}\")\n",
    "    \n",
    "#print(df)"
   ]
  },
  {
   "cell_type": "code",
   "execution_count": 81,
   "metadata": {},
   "outputs": [
    {
     "name": "stdout",
     "output_type": "stream",
     "text": [
      "Skateboarder Berger: P(Score > 0.6 | Landed) = 1.00, P(Failure) = 0.83\n",
      "Skateboarder Decenzo: P(Score > 0.6 | Landed) = 1.00, P(Failure) = 0.59\n",
      "Skateboarder Eaton: P(Score > 0.6 | Landed) = 1.00, P(Failure) = 0.38\n",
      "Skateboarder Foy: P(Score > 0.6 | Landed) = 1.00, P(Failure) = 0.50\n",
      "Skateboarder Fynn: P(Score > 0.6 | Landed) = 1.00, P(Failure) = 0.50\n",
      "Skateboarder Gustavo: P(Score > 0.6 | Landed) = 1.00, P(Failure) = 0.60\n",
      "Skateboarder Hoban: P(Score > 0.6 | Landed) = 1.00, P(Failure) = 0.62\n",
      "Skateboarder Hoefler: P(Score > 0.6 | Landed) = 1.00, P(Failure) = 0.59\n",
      "Skateboarder Horigome: P(Score > 0.6 | Landed) = 1.00, P(Failure) = 0.50\n",
      "Skateboarder Huston: P(Score > 0.6 | Landed) = 1.00, P(Failure) = 0.62\n",
      "Skateboarder Jordan: P(Score > 0.6 | Landed) = 1.00, P(Failure) = 0.60\n",
      "Skateboarder Joslin: P(Score > 0.6 | Landed) = 1.00, P(Failure) = 0.55\n",
      "Skateboarder Majerus: P(Score > 0.6 | Landed) = 0.33, P(Failure) = 0.62\n",
      "Skateboarder McClung: P(Score > 0.6 | Landed) = 0.00, P(Failure) = 0.75\n",
      "Skateboarder Midler: P(Score > 0.6 | Landed) = 1.00, P(Failure) = 0.67\n",
      "Skateboarder Milou: P(Score > 0.6 | Landed) = 1.00, P(Failure) = 0.50\n",
      "Skateboarder Mota: P(Score > 0.6 | Landed) = 1.00, P(Failure) = 0.75\n",
      "Skateboarder Oliveira: P(Score > 0.6 | Landed) = 1.00, P(Failure) = 0.58\n",
      "Skateboarder O’neill: P(Score > 0.6 | Landed) = 1.00, P(Failure) = 0.75\n",
      "Skateboarder Papa: P(Score > 0.6 | Landed) = 1.00, P(Failure) = 0.56\n",
      "Skateboarder Pudwill: P(Score > 0.6 | Landed) = 0.33, P(Failure) = 0.75\n",
      "Skateboarder Ribeiro C: P(Score > 0.6 | Landed) = 1.00, P(Failure) = 0.75\n",
      "Skateboarder Ribeiro G: P(Score > 0.6 | Landed) = 1.00, P(Failure) = 0.50\n",
      "Skateboarder Rodriguez: P(Score > 0.6 | Landed) = 1.00, P(Failure) = 0.50\n",
      "Skateboarder Santiago: P(Score > 0.6 | Landed) = 0.00, P(Failure) = 0.92\n",
      "Skateboarder Shirai: P(Score > 0.6 | Landed) = 1.00, P(Failure) = 0.62\n",
      "Skateboarder Silvas: P(Score > 0.6 | Landed) = 1.00, P(Failure) = 0.62\n",
      "Skateboarder Suciu: P(Score > 0.6 | Landed) = 1.00, P(Failure) = 0.38\n",
      "Skateboarder Wair: P(Score > 0.6 | Landed) = 1.00, P(Failure) = 0.50\n",
      "Skateboarder Wright: P(Score > 0.6 | Landed) = 1.00, P(Failure) = 0.75\n"
     ]
    }
   ],
   "source": [
    "#Pleas note that this is for all tricks!\n",
    "estimate_probabilities(df)"
   ]
  },
  {
   "cell_type": "markdown",
   "metadata": {},
   "source": []
  },
  {
   "cell_type": "markdown",
   "metadata": {},
   "source": [
    "**Here, I will add a modified version of this code that handles each trick separately!**"
   ]
  },
  {
   "cell_type": "code",
   "execution_count": 82,
   "metadata": {},
   "outputs": [],
   "source": [
    "def estimate_probabilities_by_individual_trick(df):\n",
    "    # Group by skateboarder's name to get each skateboarder's data across all locations\n",
    "    grouped_df = df.groupby('id')\n",
    "\n",
    "    results = []\n",
    "\n",
    "    for name, group in grouped_df:\n",
    "        for i in range(1, 6):  # Iterate through each trick\n",
    "            trick_col = f\"trick {i}\"\n",
    "\n",
    "            # Number of times this specific trick was landed by the skateboarder across all locations\n",
    "            successful_tricks = group[trick_col].apply(lambda x: 1 if x > 0 else 0).sum()\n",
    "\n",
    "            # Number of times this specific trick got a score >= 0.6 by the skateboarder across all locations\n",
    "            tricks_score_more_than_06 = group[trick_col].apply(lambda x: 1 if x >= 0.6 else 0).sum()\n",
    "\n",
    "            # Probability that this trick receives a score greater than 0.6 given the trick was landed\n",
    "            prob_success_given_landed = tricks_score_more_than_06 / successful_tricks if successful_tricks > 0 else 0\n",
    "\n",
    "            # Total attempts of this specific trick by the skateboarder across all locations\n",
    "            total_tricks = group[trick_col].count()\n",
    "\n",
    "            # Number of times this specific trick failed (scored 0) by the skateboarder across all locations\n",
    "            failed_tricks = group[trick_col].apply(lambda x: 1 if x == 0 else 0).sum()\n",
    "\n",
    "            # Probability that the skateboarder fails to land this trick\n",
    "            prob_failure = failed_tricks / total_tricks\n",
    "\n",
    "            results.append((name, trick_col, prob_success_given_landed, prob_failure))\n",
    "\n",
    "    for name, trick, success_given_landed, failure in results:\n",
    "        print(f\"Skateboarder {name} for {trick}: P(Score > 0.6 | Landed) = {success_given_landed:.2f}, P(Failure) = {failure:.2f}\")\n"
   ]
  },
  {
   "cell_type": "code",
   "execution_count": 83,
   "metadata": {},
   "outputs": [
    {
     "name": "stdout",
     "output_type": "stream",
     "text": [
      "Skateboarder Berger for trick 1: P(Score > 0.6 | Landed) = 1.00, P(Failure) = 0.67\n",
      "Skateboarder Berger for trick 2: P(Score > 0.6 | Landed) = 0.00, P(Failure) = 1.00\n",
      "Skateboarder Berger for trick 3: P(Score > 0.6 | Landed) = 1.00, P(Failure) = 0.67\n",
      "Skateboarder Berger for trick 4: P(Score > 0.6 | Landed) = 0.00, P(Failure) = 1.00\n",
      "Skateboarder Berger for trick 5: P(Score > 0.6 | Landed) = 0.00, P(Failure) = nan\n",
      "Skateboarder Decenzo for trick 1: P(Score > 0.6 | Landed) = 1.00, P(Failure) = 0.25\n",
      "Skateboarder Decenzo for trick 2: P(Score > 0.6 | Landed) = 1.00, P(Failure) = 0.75\n",
      "Skateboarder Decenzo for trick 3: P(Score > 0.6 | Landed) = 1.00, P(Failure) = 0.25\n",
      "Skateboarder Decenzo for trick 4: P(Score > 0.6 | Landed) = 0.00, P(Failure) = 1.00\n",
      "Skateboarder Decenzo for trick 5: P(Score > 0.6 | Landed) = 0.00, P(Failure) = 1.00\n",
      "Skateboarder Eaton for trick 1: P(Score > 0.6 | Landed) = 1.00, P(Failure) = 0.50\n",
      "Skateboarder Eaton for trick 2: P(Score > 0.6 | Landed) = 1.00, P(Failure) = 0.00\n",
      "Skateboarder Eaton for trick 3: P(Score > 0.6 | Landed) = 1.00, P(Failure) = 0.00\n",
      "Skateboarder Eaton for trick 4: P(Score > 0.6 | Landed) = 0.00, P(Failure) = 1.00\n",
      "Skateboarder Eaton for trick 5: P(Score > 0.6 | Landed) = 0.00, P(Failure) = nan\n",
      "Skateboarder Foy for trick 1: P(Score > 0.6 | Landed) = 1.00, P(Failure) = 0.33\n",
      "Skateboarder Foy for trick 2: P(Score > 0.6 | Landed) = 1.00, P(Failure) = 0.33\n",
      "Skateboarder Foy for trick 3: P(Score > 0.6 | Landed) = 1.00, P(Failure) = 0.33\n",
      "Skateboarder Foy for trick 4: P(Score > 0.6 | Landed) = 0.00, P(Failure) = 1.00\n",
      "Skateboarder Foy for trick 5: P(Score > 0.6 | Landed) = 0.00, P(Failure) = nan\n",
      "Skateboarder Fynn for trick 1: P(Score > 0.6 | Landed) = 1.00, P(Failure) = 0.67\n",
      "Skateboarder Fynn for trick 2: P(Score > 0.6 | Landed) = 1.00, P(Failure) = 0.00\n",
      "Skateboarder Fynn for trick 3: P(Score > 0.6 | Landed) = 1.00, P(Failure) = 0.67\n",
      "Skateboarder Fynn for trick 4: P(Score > 0.6 | Landed) = 1.00, P(Failure) = 0.67\n",
      "Skateboarder Fynn for trick 5: P(Score > 0.6 | Landed) = 0.00, P(Failure) = nan\n",
      "Skateboarder Gustavo for trick 1: P(Score > 0.6 | Landed) = 1.00, P(Failure) = 0.20\n",
      "Skateboarder Gustavo for trick 2: P(Score > 0.6 | Landed) = 1.00, P(Failure) = 0.80\n",
      "Skateboarder Gustavo for trick 3: P(Score > 0.6 | Landed) = 1.00, P(Failure) = 0.40\n",
      "Skateboarder Gustavo for trick 4: P(Score > 0.6 | Landed) = 0.00, P(Failure) = 1.00\n",
      "Skateboarder Gustavo for trick 5: P(Score > 0.6 | Landed) = 0.00, P(Failure) = nan\n",
      "Skateboarder Hoban for trick 1: P(Score > 0.6 | Landed) = 1.00, P(Failure) = 0.20\n",
      "Skateboarder Hoban for trick 2: P(Score > 0.6 | Landed) = 1.00, P(Failure) = 0.40\n",
      "Skateboarder Hoban for trick 3: P(Score > 0.6 | Landed) = 1.00, P(Failure) = 0.80\n",
      "Skateboarder Hoban for trick 4: P(Score > 0.6 | Landed) = 0.00, P(Failure) = 1.00\n",
      "Skateboarder Hoban for trick 5: P(Score > 0.6 | Landed) = 0.00, P(Failure) = 1.00\n",
      "Skateboarder Hoefler for trick 1: P(Score > 0.6 | Landed) = 1.00, P(Failure) = 0.25\n",
      "Skateboarder Hoefler for trick 2: P(Score > 0.6 | Landed) = 1.00, P(Failure) = 0.75\n",
      "Skateboarder Hoefler for trick 3: P(Score > 0.6 | Landed) = 1.00, P(Failure) = 0.50\n",
      "Skateboarder Hoefler for trick 4: P(Score > 0.6 | Landed) = 1.00, P(Failure) = 0.75\n",
      "Skateboarder Hoefler for trick 5: P(Score > 0.6 | Landed) = 0.00, P(Failure) = 1.00\n",
      "Skateboarder Horigome for trick 1: P(Score > 0.6 | Landed) = 1.00, P(Failure) = 0.00\n",
      "Skateboarder Horigome for trick 2: P(Score > 0.6 | Landed) = 0.00, P(Failure) = 1.00\n",
      "Skateboarder Horigome for trick 3: P(Score > 0.6 | Landed) = 1.00, P(Failure) = 0.00\n",
      "Skateboarder Horigome for trick 4: P(Score > 0.6 | Landed) = 1.00, P(Failure) = 0.75\n",
      "Skateboarder Horigome for trick 5: P(Score > 0.6 | Landed) = 0.00, P(Failure) = 1.00\n",
      "Skateboarder Huston for trick 1: P(Score > 0.6 | Landed) = 1.00, P(Failure) = 0.50\n",
      "Skateboarder Huston for trick 2: P(Score > 0.6 | Landed) = 1.00, P(Failure) = 0.50\n",
      "Skateboarder Huston for trick 3: P(Score > 0.6 | Landed) = 0.00, P(Failure) = 1.00\n",
      "Skateboarder Huston for trick 4: P(Score > 0.6 | Landed) = 1.00, P(Failure) = 0.50\n",
      "Skateboarder Huston for trick 5: P(Score > 0.6 | Landed) = 0.00, P(Failure) = nan\n",
      "Skateboarder Jordan for trick 1: P(Score > 0.6 | Landed) = 1.00, P(Failure) = 0.60\n",
      "Skateboarder Jordan for trick 2: P(Score > 0.6 | Landed) = 0.00, P(Failure) = 1.00\n",
      "Skateboarder Jordan for trick 3: P(Score > 0.6 | Landed) = 1.00, P(Failure) = 0.40\n",
      "Skateboarder Jordan for trick 4: P(Score > 0.6 | Landed) = 1.00, P(Failure) = 0.40\n",
      "Skateboarder Jordan for trick 5: P(Score > 0.6 | Landed) = 0.00, P(Failure) = nan\n",
      "Skateboarder Joslin for trick 1: P(Score > 0.6 | Landed) = 1.00, P(Failure) = 0.40\n",
      "Skateboarder Joslin for trick 2: P(Score > 0.6 | Landed) = 1.00, P(Failure) = 0.20\n",
      "Skateboarder Joslin for trick 3: P(Score > 0.6 | Landed) = 1.00, P(Failure) = 0.60\n",
      "Skateboarder Joslin for trick 4: P(Score > 0.6 | Landed) = 0.00, P(Failure) = 1.00\n",
      "Skateboarder Joslin for trick 5: P(Score > 0.6 | Landed) = 1.00, P(Failure) = 0.50\n",
      "Skateboarder Majerus for trick 1: P(Score > 0.6 | Landed) = 0.50, P(Failure) = 0.00\n",
      "Skateboarder Majerus for trick 2: P(Score > 0.6 | Landed) = 0.00, P(Failure) = 1.00\n",
      "Skateboarder Majerus for trick 3: P(Score > 0.6 | Landed) = 0.00, P(Failure) = 1.00\n",
      "Skateboarder Majerus for trick 4: P(Score > 0.6 | Landed) = 0.00, P(Failure) = 0.50\n",
      "Skateboarder Majerus for trick 5: P(Score > 0.6 | Landed) = 0.00, P(Failure) = nan\n",
      "Skateboarder McClung for trick 1: P(Score > 0.6 | Landed) = 0.00, P(Failure) = 0.00\n",
      "Skateboarder McClung for trick 2: P(Score > 0.6 | Landed) = 0.00, P(Failure) = 1.00\n",
      "Skateboarder McClung for trick 3: P(Score > 0.6 | Landed) = 0.00, P(Failure) = 1.00\n",
      "Skateboarder McClung for trick 4: P(Score > 0.6 | Landed) = 0.00, P(Failure) = 1.00\n",
      "Skateboarder McClung for trick 5: P(Score > 0.6 | Landed) = 0.00, P(Failure) = nan\n",
      "Skateboarder Midler for trick 1: P(Score > 0.6 | Landed) = 1.00, P(Failure) = 0.67\n",
      "Skateboarder Midler for trick 2: P(Score > 0.6 | Landed) = 1.00, P(Failure) = 0.67\n",
      "Skateboarder Midler for trick 3: P(Score > 0.6 | Landed) = 1.00, P(Failure) = 0.67\n",
      "Skateboarder Midler for trick 4: P(Score > 0.6 | Landed) = 1.00, P(Failure) = 0.67\n",
      "Skateboarder Midler for trick 5: P(Score > 0.6 | Landed) = 0.00, P(Failure) = nan\n",
      "Skateboarder Milou for trick 1: P(Score > 0.6 | Landed) = 1.00, P(Failure) = 0.20\n",
      "Skateboarder Milou for trick 2: P(Score > 0.6 | Landed) = 1.00, P(Failure) = 0.40\n",
      "Skateboarder Milou for trick 3: P(Score > 0.6 | Landed) = 1.00, P(Failure) = 0.80\n",
      "Skateboarder Milou for trick 4: P(Score > 0.6 | Landed) = 1.00, P(Failure) = 0.80\n",
      "Skateboarder Milou for trick 5: P(Score > 0.6 | Landed) = 1.00, P(Failure) = 0.00\n",
      "Skateboarder Mota for trick 1: P(Score > 0.6 | Landed) = 1.00, P(Failure) = 0.33\n",
      "Skateboarder Mota for trick 2: P(Score > 0.6 | Landed) = 1.00, P(Failure) = 0.67\n",
      "Skateboarder Mota for trick 3: P(Score > 0.6 | Landed) = 0.00, P(Failure) = 1.00\n",
      "Skateboarder Mota for trick 4: P(Score > 0.6 | Landed) = 0.00, P(Failure) = 1.00\n",
      "Skateboarder Mota for trick 5: P(Score > 0.6 | Landed) = 0.00, P(Failure) = nan\n",
      "Skateboarder Oliveira for trick 1: P(Score > 0.6 | Landed) = 0.00, P(Failure) = 1.00\n",
      "Skateboarder Oliveira for trick 2: P(Score > 0.6 | Landed) = 1.00, P(Failure) = 0.67\n",
      "Skateboarder Oliveira for trick 3: P(Score > 0.6 | Landed) = 1.00, P(Failure) = 0.33\n",
      "Skateboarder Oliveira for trick 4: P(Score > 0.6 | Landed) = 1.00, P(Failure) = 0.33\n",
      "Skateboarder Oliveira for trick 5: P(Score > 0.6 | Landed) = 0.00, P(Failure) = nan\n",
      "Skateboarder O’neill for trick 1: P(Score > 0.6 | Landed) = 1.00, P(Failure) = 0.33\n",
      "Skateboarder O’neill for trick 2: P(Score > 0.6 | Landed) = 0.00, P(Failure) = 1.00\n",
      "Skateboarder O’neill for trick 3: P(Score > 0.6 | Landed) = 1.00, P(Failure) = 0.67\n",
      "Skateboarder O’neill for trick 4: P(Score > 0.6 | Landed) = 0.00, P(Failure) = 1.00\n",
      "Skateboarder O’neill for trick 5: P(Score > 0.6 | Landed) = 0.00, P(Failure) = nan\n",
      "Skateboarder Papa for trick 1: P(Score > 0.6 | Landed) = 1.00, P(Failure) = 0.25\n",
      "Skateboarder Papa for trick 2: P(Score > 0.6 | Landed) = 0.00, P(Failure) = 1.00\n",
      "Skateboarder Papa for trick 3: P(Score > 0.6 | Landed) = 1.00, P(Failure) = 0.25\n",
      "Skateboarder Papa for trick 4: P(Score > 0.6 | Landed) = 1.00, P(Failure) = 0.75\n",
      "Skateboarder Papa for trick 5: P(Score > 0.6 | Landed) = 0.00, P(Failure) = nan\n",
      "Skateboarder Pudwill for trick 1: P(Score > 0.6 | Landed) = 0.00, P(Failure) = 0.67\n",
      "Skateboarder Pudwill for trick 2: P(Score > 0.6 | Landed) = 0.00, P(Failure) = 1.00\n",
      "Skateboarder Pudwill for trick 3: P(Score > 0.6 | Landed) = 0.00, P(Failure) = 1.00\n",
      "Skateboarder Pudwill for trick 4: P(Score > 0.6 | Landed) = 0.50, P(Failure) = 0.33\n",
      "Skateboarder Pudwill for trick 5: P(Score > 0.6 | Landed) = 0.00, P(Failure) = nan\n",
      "Skateboarder Ribeiro C for trick 1: P(Score > 0.6 | Landed) = 1.00, P(Failure) = 0.00\n",
      "Skateboarder Ribeiro C for trick 2: P(Score > 0.6 | Landed) = 0.00, P(Failure) = 1.00\n",
      "Skateboarder Ribeiro C for trick 3: P(Score > 0.6 | Landed) = 0.00, P(Failure) = 1.00\n",
      "Skateboarder Ribeiro C for trick 4: P(Score > 0.6 | Landed) = 0.00, P(Failure) = 1.00\n",
      "Skateboarder Ribeiro C for trick 5: P(Score > 0.6 | Landed) = 0.00, P(Failure) = nan\n",
      "Skateboarder Ribeiro G for trick 1: P(Score > 0.6 | Landed) = 1.00, P(Failure) = 0.67\n",
      "Skateboarder Ribeiro G for trick 2: P(Score > 0.6 | Landed) = 1.00, P(Failure) = 0.33\n",
      "Skateboarder Ribeiro G for trick 3: P(Score > 0.6 | Landed) = 1.00, P(Failure) = 0.33\n",
      "Skateboarder Ribeiro G for trick 4: P(Score > 0.6 | Landed) = 1.00, P(Failure) = 0.50\n",
      "Skateboarder Ribeiro G for trick 5: P(Score > 0.6 | Landed) = 0.00, P(Failure) = 1.00\n",
      "Skateboarder Rodriguez for trick 1: P(Score > 0.6 | Landed) = 1.00, P(Failure) = 0.00\n",
      "Skateboarder Rodriguez for trick 2: P(Score > 0.6 | Landed) = 0.00, P(Failure) = 1.00\n",
      "Skateboarder Rodriguez for trick 3: P(Score > 0.6 | Landed) = 1.00, P(Failure) = 0.00\n",
      "Skateboarder Rodriguez for trick 4: P(Score > 0.6 | Landed) = 0.00, P(Failure) = 1.00\n",
      "Skateboarder Rodriguez for trick 5: P(Score > 0.6 | Landed) = 0.00, P(Failure) = nan\n",
      "Skateboarder Santiago for trick 1: P(Score > 0.6 | Landed) = 0.00, P(Failure) = 0.67\n",
      "Skateboarder Santiago for trick 2: P(Score > 0.6 | Landed) = 0.00, P(Failure) = 1.00\n",
      "Skateboarder Santiago for trick 3: P(Score > 0.6 | Landed) = 0.00, P(Failure) = 1.00\n",
      "Skateboarder Santiago for trick 4: P(Score > 0.6 | Landed) = 0.00, P(Failure) = 1.00\n",
      "Skateboarder Santiago for trick 5: P(Score > 0.6 | Landed) = 0.00, P(Failure) = nan\n",
      "Skateboarder Shirai for trick 1: P(Score > 0.6 | Landed) = 1.00, P(Failure) = 0.40\n",
      "Skateboarder Shirai for trick 2: P(Score > 0.6 | Landed) = 1.00, P(Failure) = 0.60\n",
      "Skateboarder Shirai for trick 3: P(Score > 0.6 | Landed) = 1.00, P(Failure) = 0.60\n",
      "Skateboarder Shirai for trick 4: P(Score > 0.6 | Landed) = 1.00, P(Failure) = 0.80\n",
      "Skateboarder Shirai for trick 5: P(Score > 0.6 | Landed) = 0.00, P(Failure) = 1.00\n",
      "Skateboarder Silvas for trick 1: P(Score > 0.6 | Landed) = 1.00, P(Failure) = 0.00\n",
      "Skateboarder Silvas for trick 2: P(Score > 0.6 | Landed) = 1.00, P(Failure) = 0.50\n",
      "Skateboarder Silvas for trick 3: P(Score > 0.6 | Landed) = 0.00, P(Failure) = 1.00\n",
      "Skateboarder Silvas for trick 4: P(Score > 0.6 | Landed) = 0.00, P(Failure) = 1.00\n",
      "Skateboarder Silvas for trick 5: P(Score > 0.6 | Landed) = 0.00, P(Failure) = nan\n",
      "Skateboarder Suciu for trick 1: P(Score > 0.6 | Landed) = 1.00, P(Failure) = 0.00\n",
      "Skateboarder Suciu for trick 2: P(Score > 0.6 | Landed) = 1.00, P(Failure) = 0.00\n",
      "Skateboarder Suciu for trick 3: P(Score > 0.6 | Landed) = 0.00, P(Failure) = 1.00\n",
      "Skateboarder Suciu for trick 4: P(Score > 0.6 | Landed) = 1.00, P(Failure) = 0.50\n",
      "Skateboarder Suciu for trick 5: P(Score > 0.6 | Landed) = 0.00, P(Failure) = nan\n",
      "Skateboarder Wair for trick 1: P(Score > 0.6 | Landed) = 0.00, P(Failure) = 1.00\n",
      "Skateboarder Wair for trick 2: P(Score > 0.6 | Landed) = 0.00, P(Failure) = 1.00\n",
      "Skateboarder Wair for trick 3: P(Score > 0.6 | Landed) = 1.00, P(Failure) = 0.00\n",
      "Skateboarder Wair for trick 4: P(Score > 0.6 | Landed) = 1.00, P(Failure) = 0.00\n",
      "Skateboarder Wair for trick 5: P(Score > 0.6 | Landed) = 0.00, P(Failure) = nan\n",
      "Skateboarder Wright for trick 1: P(Score > 0.6 | Landed) = 0.00, P(Failure) = 1.00\n",
      "Skateboarder Wright for trick 2: P(Score > 0.6 | Landed) = 0.00, P(Failure) = 1.00\n",
      "Skateboarder Wright for trick 3: P(Score > 0.6 | Landed) = 1.00, P(Failure) = 0.00\n",
      "Skateboarder Wright for trick 4: P(Score > 0.6 | Landed) = 0.00, P(Failure) = 1.00\n",
      "Skateboarder Wright for trick 5: P(Score > 0.6 | Landed) = 0.00, P(Failure) = nan\n"
     ]
    },
    {
     "name": "stderr",
     "output_type": "stream",
     "text": [
      "C:\\Users\\villi\\AppData\\Local\\Temp\\ipykernel_23384\\417097349.py:27: RuntimeWarning: invalid value encountered in longlong_scalars\n",
      "  prob_failure = failed_tricks / total_tricks\n"
     ]
    }
   ],
   "source": [
    "estimate_probabilities_by_individual_trick(df)"
   ]
  },
  {
   "cell_type": "markdown",
   "metadata": {},
   "source": [
    "### (e) \n",
    "Create a scatter plot for run score 1 versus run score 2. \n",
    "\n",
    "- Do you see any clear correlation from the diagram?"
   ]
  },
  {
   "cell_type": "code",
   "execution_count": 84,
   "metadata": {},
   "outputs": [],
   "source": [
    "import pandas as pd\n",
    "\n",
    "def estimate_probabilities_by_individual_trick_row(df):\n",
    "    # Group by skateboarder's name to get each skateboarder's data across all locations\n",
    "    grouped_df = df.groupby('id')\n",
    "\n",
    "    # Create a dictionary to store results\n",
    "    results_dict = {}\n",
    "\n",
    "    for name, group in grouped_df:\n",
    "        # Create a sub-dictionary for each skateboarder\n",
    "        skateboarder_data = {}\n",
    "        \n",
    "        for i in range(1, 6):  # Iterate through each trick\n",
    "            trick_col = f\"trick {i}\"\n",
    "\n",
    "            # Number of times this specific trick was landed by the skateboarder across all locations\n",
    "            successful_tricks = group[trick_col].apply(lambda x: 1 if x > 0 else 0).sum()\n",
    "\n",
    "            # Number of times this specific trick got a score >= 0.6 by the skateboarder across all locations\n",
    "            tricks_score_more_than_06 = group[trick_col].apply(lambda x: 1 if x >= 0.6 else 0).sum()\n",
    "\n",
    "            # Probability that this trick receives a score greater than 0.6 given the trick was landed\n",
    "            prob_success_given_landed = tricks_score_more_than_06 / successful_tricks if successful_tricks > 0 else 0\n",
    "\n",
    "            # Total attempts of this specific trick by the skateboarder across all locations\n",
    "            total_tricks = group[trick_col].count()\n",
    "\n",
    "            # Number of times this specific trick failed (scored 0) by the skateboarder across all locations\n",
    "            failed_tricks = group[trick_col].apply(lambda x: 1 if x == 0 else 0).sum()\n",
    "\n",
    "            # Probability that the skateboarder fails to land this trick\n",
    "            prob_failure = failed_tricks / total_tricks\n",
    "\n",
    "            # Store the results in the sub-dictionary\n",
    "            skateboarder_data[f\"{trick_col} P(Score > 0.6 | Landed)\"] = prob_success_given_landed\n",
    "            skateboarder_data[f\"{trick_col} P(Failure)\"] = prob_failure\n",
    "        \n",
    "        # Add the sub-dictionary to the main dictionary with skateboarder's name as the key\n",
    "        results_dict[name] = skateboarder_data\n",
    "\n",
    "    # Convert the dictionary to a DataFrame and return it\n",
    "    results_df = pd.DataFrame.from_dict(results_dict, orient='index')\n",
    "    return results_df\n",
    "\n",
    "# Assuming you have a dataframe `df`\n",
    "# You can call the function and get the results in a DataFrame format\n",
    "# results_df = estimate_probabilities_by_individual_trick(df)\n",
    "# print(results_df)\n"
   ]
  },
  {
   "cell_type": "code",
   "execution_count": 85,
   "metadata": {},
   "outputs": [
    {
     "name": "stdout",
     "output_type": "stream",
     "text": [
      "           trick 1 P(Score > 0.6 | Landed)  trick 1 P(Failure)  \\\n",
      "Berger                                 1.0            0.666667   \n",
      "Decenzo                                1.0            0.250000   \n",
      "Eaton                                  1.0            0.500000   \n",
      "Foy                                    1.0            0.333333   \n",
      "Fynn                                   1.0            0.666667   \n",
      "Gustavo                                1.0            0.200000   \n",
      "Hoban                                  1.0            0.200000   \n",
      "Hoefler                                1.0            0.250000   \n",
      "Horigome                               1.0            0.000000   \n",
      "Huston                                 1.0            0.500000   \n",
      "Jordan                                 1.0            0.600000   \n",
      "Joslin                                 1.0            0.400000   \n",
      "Majerus                                0.5            0.000000   \n",
      "McClung                                0.0            0.000000   \n",
      "Midler                                 1.0            0.666667   \n",
      "Milou                                  1.0            0.200000   \n",
      "Mota                                   1.0            0.333333   \n",
      "Oliveira                               0.0            1.000000   \n",
      "O’neill                                1.0            0.333333   \n",
      "Papa                                   1.0            0.250000   \n",
      "Pudwill                                0.0            0.666667   \n",
      "Ribeiro C                              1.0            0.000000   \n",
      "Ribeiro G                              1.0            0.666667   \n",
      "Rodriguez                              1.0            0.000000   \n",
      "Santiago                               0.0            0.666667   \n",
      "Shirai                                 1.0            0.400000   \n",
      "Silvas                                 1.0            0.000000   \n",
      "Suciu                                  1.0            0.000000   \n",
      "Wair                                   0.0            1.000000   \n",
      "Wright                                 0.0            1.000000   \n",
      "\n",
      "           trick 2 P(Score > 0.6 | Landed)  trick 2 P(Failure)  \\\n",
      "Berger                                 0.0            1.000000   \n",
      "Decenzo                                1.0            0.750000   \n",
      "Eaton                                  1.0            0.000000   \n",
      "Foy                                    1.0            0.333333   \n",
      "Fynn                                   1.0            0.000000   \n",
      "Gustavo                                1.0            0.800000   \n",
      "Hoban                                  1.0            0.400000   \n",
      "Hoefler                                1.0            0.750000   \n",
      "Horigome                               0.0            1.000000   \n",
      "Huston                                 1.0            0.500000   \n",
      "Jordan                                 0.0            1.000000   \n",
      "Joslin                                 1.0            0.200000   \n",
      "Majerus                                0.0            1.000000   \n",
      "McClung                                0.0            1.000000   \n",
      "Midler                                 1.0            0.666667   \n",
      "Milou                                  1.0            0.400000   \n",
      "Mota                                   1.0            0.666667   \n",
      "Oliveira                               1.0            0.666667   \n",
      "O’neill                                0.0            1.000000   \n",
      "Papa                                   0.0            1.000000   \n",
      "Pudwill                                0.0            1.000000   \n",
      "Ribeiro C                              0.0            1.000000   \n",
      "Ribeiro G                              1.0            0.333333   \n",
      "Rodriguez                              0.0            1.000000   \n",
      "Santiago                               0.0            1.000000   \n",
      "Shirai                                 1.0            0.600000   \n",
      "Silvas                                 1.0            0.500000   \n",
      "Suciu                                  1.0            0.000000   \n",
      "Wair                                   0.0            1.000000   \n",
      "Wright                                 0.0            1.000000   \n",
      "\n",
      "           trick 3 P(Score > 0.6 | Landed)  trick 3 P(Failure)  \\\n",
      "Berger                                 1.0            0.666667   \n",
      "Decenzo                                1.0            0.250000   \n",
      "Eaton                                  1.0            0.000000   \n",
      "Foy                                    1.0            0.333333   \n",
      "Fynn                                   1.0            0.666667   \n",
      "Gustavo                                1.0            0.400000   \n",
      "Hoban                                  1.0            0.800000   \n",
      "Hoefler                                1.0            0.500000   \n",
      "Horigome                               1.0            0.000000   \n",
      "Huston                                 0.0            1.000000   \n",
      "Jordan                                 1.0            0.400000   \n",
      "Joslin                                 1.0            0.600000   \n",
      "Majerus                                0.0            1.000000   \n",
      "McClung                                0.0            1.000000   \n",
      "Midler                                 1.0            0.666667   \n",
      "Milou                                  1.0            0.800000   \n",
      "Mota                                   0.0            1.000000   \n",
      "Oliveira                               1.0            0.333333   \n",
      "O’neill                                1.0            0.666667   \n",
      "Papa                                   1.0            0.250000   \n",
      "Pudwill                                0.0            1.000000   \n",
      "Ribeiro C                              0.0            1.000000   \n",
      "Ribeiro G                              1.0            0.333333   \n",
      "Rodriguez                              1.0            0.000000   \n",
      "Santiago                               0.0            1.000000   \n",
      "Shirai                                 1.0            0.600000   \n",
      "Silvas                                 0.0            1.000000   \n",
      "Suciu                                  0.0            1.000000   \n",
      "Wair                                   1.0            0.000000   \n",
      "Wright                                 1.0            0.000000   \n",
      "\n",
      "           trick 4 P(Score > 0.6 | Landed)  trick 4 P(Failure)  \\\n",
      "Berger                                 0.0            1.000000   \n",
      "Decenzo                                0.0            1.000000   \n",
      "Eaton                                  0.0            1.000000   \n",
      "Foy                                    0.0            1.000000   \n",
      "Fynn                                   1.0            0.666667   \n",
      "Gustavo                                0.0            1.000000   \n",
      "Hoban                                  0.0            1.000000   \n",
      "Hoefler                                1.0            0.750000   \n",
      "Horigome                               1.0            0.750000   \n",
      "Huston                                 1.0            0.500000   \n",
      "Jordan                                 1.0            0.400000   \n",
      "Joslin                                 0.0            1.000000   \n",
      "Majerus                                0.0            0.500000   \n",
      "McClung                                0.0            1.000000   \n",
      "Midler                                 1.0            0.666667   \n",
      "Milou                                  1.0            0.800000   \n",
      "Mota                                   0.0            1.000000   \n",
      "Oliveira                               1.0            0.333333   \n",
      "O’neill                                0.0            1.000000   \n",
      "Papa                                   1.0            0.750000   \n",
      "Pudwill                                0.5            0.333333   \n",
      "Ribeiro C                              0.0            1.000000   \n",
      "Ribeiro G                              1.0            0.500000   \n",
      "Rodriguez                              0.0            1.000000   \n",
      "Santiago                               0.0            1.000000   \n",
      "Shirai                                 1.0            0.800000   \n",
      "Silvas                                 0.0            1.000000   \n",
      "Suciu                                  1.0            0.500000   \n",
      "Wair                                   1.0            0.000000   \n",
      "Wright                                 0.0            1.000000   \n",
      "\n",
      "           trick 5 P(Score > 0.6 | Landed)  trick 5 P(Failure)  \n",
      "Berger                                 0.0                 NaN  \n",
      "Decenzo                                0.0                 1.0  \n",
      "Eaton                                  0.0                 NaN  \n",
      "Foy                                    0.0                 NaN  \n",
      "Fynn                                   0.0                 NaN  \n",
      "Gustavo                                0.0                 NaN  \n",
      "Hoban                                  0.0                 1.0  \n",
      "Hoefler                                0.0                 1.0  \n",
      "Horigome                               0.0                 1.0  \n",
      "Huston                                 0.0                 NaN  \n",
      "Jordan                                 0.0                 NaN  \n",
      "Joslin                                 1.0                 0.5  \n",
      "Majerus                                0.0                 NaN  \n",
      "McClung                                0.0                 NaN  \n",
      "Midler                                 0.0                 NaN  \n",
      "Milou                                  1.0                 0.0  \n",
      "Mota                                   0.0                 NaN  \n",
      "Oliveira                               0.0                 NaN  \n",
      "O’neill                                0.0                 NaN  \n",
      "Papa                                   0.0                 NaN  \n",
      "Pudwill                                0.0                 NaN  \n",
      "Ribeiro C                              0.0                 NaN  \n",
      "Ribeiro G                              0.0                 1.0  \n",
      "Rodriguez                              0.0                 NaN  \n",
      "Santiago                               0.0                 NaN  \n",
      "Shirai                                 0.0                 1.0  \n",
      "Silvas                                 0.0                 NaN  \n",
      "Suciu                                  0.0                 NaN  \n",
      "Wair                                   0.0                 NaN  \n",
      "Wright                                 0.0                 NaN  \n"
     ]
    },
    {
     "name": "stderr",
     "output_type": "stream",
     "text": [
      "C:\\Users\\villi\\AppData\\Local\\Temp\\ipykernel_23384\\803681420.py:33: RuntimeWarning: invalid value encountered in longlong_scalars\n",
      "  prob_failure = failed_tricks / total_tricks\n"
     ]
    }
   ],
   "source": [
    "print(estimate_probabilities_by_individual_trick_row(df))"
   ]
  },
  {
   "cell_type": "code",
   "execution_count": 86,
   "metadata": {},
   "outputs": [
    {
     "data": {
      "image/png": "[encoded data removed]",
      "text/plain": [
       "<Figure size 1000x600 with 1 Axes>"
      ]
     },
     "metadata": {},
     "output_type": "display_data"
    }
   ],
   "source": [
    "# Extracting data for plotting\n",
    "x = df['run 1']\n",
    "y = df['run 2']\n",
    "\n",
    "# Creating the scatter plot\n",
    "plt.figure(figsize=(10,6))\n",
    "plt.scatter(x, y, color='blue', alpha=0.5)\n",
    "plt.title('Scatter Plot: run score 1 vs. run score 2')\n",
    "plt.xlabel('run score 1')\n",
    "plt.ylabel('run score 2')\n",
    "plt.grid(True)\n",
    "\n",
    "# Display the plot\n",
    "plt.show()"
   ]
  },
  {
   "cell_type": "markdown",
   "metadata": {},
   "source": [
    "# 2 A Frequentist Model"
   ]
  },
  {
   "cell_type": "markdown",
   "metadata": {},
   "source": [
    "#### Problem"
   ]
  },
  {
   "cell_type": "markdown",
   "metadata": {},
   "source": [
    "We'd like to construct a model that can predict which of the 16 skateboarders in the LCQ will secure a spot in the final. \n",
    "\n",
    "One approach to this is to construct a model for each skateboarder, utilize these models to simulate run scores and trick scores for every skateboarder, and then combine these simulations to simulate the LCQ as a whole. \n",
    "\n",
    "By simulating multiple LCQs, we can extract the top four skateboarders with the highest cumulative scores from each. \n",
    "Our prediction would then be the mode of these outcomes. \n",
    "\n",
    "**NOTE:** *Please note that this model assumes that the performances of the skateboarders are independent. For the sake of simplicity, we'll assume that the score for a particular run $Y_i$ and the score for a specific trick $X_i$ are independent for each skateboarder.*\n",
    "\n",
    "- For skateboarder $i$, we assume that all trick scores and run scores are independent and have identically distributed outcomes from $X_i$ and $Y_i$ respectively. \n",
    "\n",
    "- We can start by specifying a model for $X_i$ and $Y_i$. \n",
    "\n",
    "---\n",
    "\n",
    "From the observations in Task 1, a plausible model for $X_i$ is the following:\n",
    "$$\n",
    "X_i = \n",
    "\\begin{cases} \n",
    "0 & \\text{if } V_i = 0, \\\\ \n",
    "Z_i & \\text{if } V_i = 1,\n",
    "\\end{cases}\n",
    "$$\n",
    "where \n",
    "$$ V_i \\sim \\text{Ber}(\\theta_i), $$\n",
    "$$ Z_i \\sim \\text{Beta}(\\alpha_i, \\beta_i) $$\n",
    "and \n",
    "$$ V_i \\perp Z_i. $$\n",
    "It can be shown that\n",
    "$$ \n",
    "f_{X_i}(x_i | \\theta_i, \\alpha_i, \\beta_i) = (1-\\theta_i) \\mathbb{1}_{\\{x_i=0\\}} + \\theta_i f_{Z_i}(z_i).\n",
    "$$\n",
    "The choice $ V_i \\sim \\text{Ber}(\\theta_i) $ models the fact that a skateboarder receives a score of 0 if and only if they do not successfully land the trick. Meanwhile, the choice $ Z_i \\sim \\text{Beta}(\\alpha_i, \\beta_i) $ models that the score for a particular trick represents the portion of the trick that was \"perfect.\""
   ]
  },
  {
   "cell_type": "markdown",
   "metadata": {},
   "source": [
    "#### (a) Provide a point estimate for each $\\theta_i$"
   ]
  },
  {
   "cell_type": "markdown",
   "metadata": {},
   "source": [
    "##### ANALYTICAL ANSWER:"
   ]
  },
  {
   "cell_type": "markdown",
   "metadata": {},
   "source": [
    "https://en.wikipedia.org/wiki/Bernoulli_distribution\n",
    "\n",
    "---\n",
    "\n",
    "\n",
    "\n",
    "We can attempt a ML point estimation for $\\theta_i$ since we know that $V_i$ follows a Bernoulli distribution with parameter $\\theta_i$.\n",
    "\n",
    "$$ V_i \\sim \\text{Ber}(\\theta_i) $$\n",
    "$$\n",
    "f_{V_i}\\left(\\theta_i\\right)=\\theta_i^{v_i}\\left(1-\\theta_i\\right)^{1-v_1}\n",
    "$$\n",
    "\n",
    "*Note: Parameter $\\theta_i$ for $\\text{Ber}(\\theta_i)$ has to be $\\theta_i \\in[0,1]$ we lake this since we normalized the scores.*\n",
    "\n",
    "$$\n",
    "\\log L\\left(\\theta \\mid v_j\\right)=\\log \\prod_i^n \\theta_i^{v_i}(1-\\theta_i)^{1-v_i}=\n",
    "$$\n",
    "$$\n",
    "=\\sum_{k=1}^n \\log \\theta_i^{v_k}(1-\\theta_i)^{1-x_k}=\\sum_{k=1}^n \\log \\theta_i^{v_k}+\\sum_{k=1}^n \\log \\left(1-\\theta_i\\right)^{1-v_k}=\n",
    "$$\n",
    "$$\n",
    "=\\log \\theta_i \\cdot \\sum_{k=1} V_k+\\log \\left(1-\\theta_i\\right) \\sum\\left(1-V_k\\right)\n",
    "$$\n",
    "\n",
    "*We can now attmpt to take a derivative.*\n",
    "\n",
    "$$\n",
    "L^{\\prime}\\left(\\theta_i \\mid v\\right)=\\frac{\\sum V_k}{\\theta_i}-\\frac{1}{1-\\theta_i}\\sum_{k=1}^n\\left(1-v_k\\right)=\\frac{\\sum_{k=1}^n v_k}{\\theta_i}-\\frac{\\left(n-\\sum_{k=1}^n v_k\\right)}{1-\\theta_i}\n",
    "$$\n",
    "\n",
    "*To find the critical point we set $L^{\\prime}\\left(\\theta_i \\mid v\\right)=0$*\n",
    "$$\n",
    "\\frac{\\sum_{k=1}^n v_k}{\\theta_i}-\\frac{\\left(n-\\sum_{k=1}^n v_k\\right)}{1-\\theta_i}=0\n",
    "$$\n",
    "\n",
    "$$\n",
    "\\frac{\\sum_{k=1}^n v_k}{\\theta_i}-\\frac{\\left(n-\\sum_{k=1}^n v_k\\right)}{1-\\theta_i}=0\n",
    "$$\n",
    "\n",
    "$$\n",
    "\\frac{\\sum_{k=1}^n v_k}{\\theta_i}=\\frac{\\left(n-\\sum_{k=1}^n v_k\\right)}{1-\\theta_i}\n",
    "$$\n",
    "\n",
    "$$\n",
    "\\sum_{k=1}^n v_k-\\theta_i \\sum_{k=1}^n v_k=\\theta_i n-\\theta_i\\sum_{k=1}^nv_k\n",
    "$$\n",
    "\n",
    "$$\n",
    "\\sum_{k=1}^n v_k=\\theta_i n\n",
    "$$\n",
    "\n",
    "$$\n",
    "\\theta_i=\\frac{\\sum_{k=1}^n v_k}{n}\n",
    "$$\n",
    "\n",
    "***We can see that this is just a sample mean.***\n",
    "\n",
    "---"
   ]
  },
  {
   "cell_type": "markdown",
   "metadata": {},
   "source": [
    "##### Code:"
   ]
  },
  {
   "cell_type": "code",
   "execution_count": 87,
   "metadata": {},
   "outputs": [
    {
     "name": "stdout",
     "output_type": "stream",
     "text": [
      "           id  theta_i\n",
      "0      Berger     0.50\n",
      "1        Papa     0.75\n",
      "2     Pudwill     0.00\n",
      "3      Shirai     0.50\n",
      "4        Mota     0.25\n",
      "..        ...      ...\n",
      "92      Hoban     0.50\n",
      "93    Hoefler     0.50\n",
      "94      Eaton     0.50\n",
      "95     Joslin     0.50\n",
      "96  Ribeiro G     0.75\n",
      "\n",
      "[97 rows x 2 columns]\n"
     ]
    }
   ],
   "source": [
    "# Extracting data for plotting\n",
    "make_columns = ['make 1', 'make 2', 'make 3', 'make 4']\n",
    "\n",
    "df['total_made'] = df[make_columns].sum(axis=1)\n",
    "df['total_attempted'] = df[['trick 1', 'trick 2', 'trick 3', 'trick 4']].notna().sum(axis=1)\n",
    "df['theta_i'] = df['total_made'] / df['total_attempted']\n",
    "\n",
    "#print(df)\n",
    "\n",
    "print(df[['id', 'theta_i']])"
   ]
  },
  {
   "cell_type": "markdown",
   "metadata": {},
   "source": [
    "##### Colective $\\theta_i$:"
   ]
  },
  {
   "cell_type": "markdown",
   "metadata": {},
   "source": [
    "Okay, now I have $\\theta_i$ for each skateboarder at each location, but it would be nice to have just one $\\theta_i$ for each name.\n",
    "\n",
    "- Can i take and average of $\\theta_i$ to reresent the $\\theta_{itotal}$ for a specific skateboarder id?\n",
    "\n",
    "Concerns I have:\n",
    "\n",
    "-  Lose of information about the variability of $\\theta_i$.\n",
    "-  Each skateborder has an equal number of attempts at each location so its no weighted to favor one location.\n",
    "-  If the distribution of $\\theta_i$ values for a skateboarder is skewed, then the mean might not be the most representative measure. In that case, I would want to do median or mode...\n",
    "\n",
    "I'm I second year bachelors student and dont know any better, let's do it..."
   ]
  },
  {
   "cell_type": "code",
   "execution_count": 88,
   "metadata": {},
   "outputs": [
    {
     "name": "stdout",
     "output_type": "stream",
     "text": [
      "           id  theta_average\n",
      "0      Berger       0.166667\n",
      "1     Decenzo       0.437500\n",
      "2       Eaton       0.625000\n",
      "3         Foy       0.500000\n",
      "4        Fynn       0.500000\n",
      "5     Gustavo       0.400000\n",
      "6       Hoban       0.400000\n",
      "7     Hoefler       0.437500\n",
      "8    Horigome       0.562500\n",
      "9      Huston       0.375000\n",
      "10     Jordan       0.400000\n",
      "11     Joslin       0.450000\n",
      "12    Majerus       0.375000\n",
      "13    McClung       0.250000\n",
      "14     Midler       0.333333\n",
      "15      Milou       0.450000\n",
      "16       Mota       0.250000\n",
      "17   Oliveira       0.416667\n",
      "18    O’neill       0.250000\n",
      "19       Papa       0.437500\n",
      "20    Pudwill       0.250000\n",
      "21  Ribeiro C       0.250000\n",
      "22  Ribeiro G       0.541667\n",
      "23  Rodriguez       0.500000\n",
      "24   Santiago       0.083333\n",
      "25     Shirai       0.400000\n",
      "26     Silvas       0.375000\n",
      "27      Suciu       0.625000\n",
      "28       Wair       0.500000\n",
      "29     Wright       0.250000\n"
     ]
    }
   ],
   "source": [
    "# Group by 'id' and compute the mean of theta_i for each skateboarder\n",
    "theta_average = df.groupby('id')['theta_i'].mean().reset_index()\n",
    "\n",
    "# Rename the columns for clarity\n",
    "theta_average.columns = ['id', 'theta_average']\n",
    "\n",
    "# Print the results\n",
    "print(theta_average)\n",
    "\n",
    "#Okay, that's great! \n",
    "# Now I have this information, but I would like to save it into the main DataFrame file.\n",
    "# Merge the theta_average DataFrame with the original df on 'id'\n",
    "df = df.merge(theta_average, on='id', how='left')\n",
    "\n",
    "# Now the original df has an additional column 'theta_average'\n",
    "#print(df)"
   ]
  },
  {
   "cell_type": "markdown",
   "metadata": {},
   "source": [
    "- Are there skateboarders for whom your chosen point estimate does not exist? \n",
    "- If so, suggest an alternative point estimate for these $\\theta_i$. \n",
    "- Justify your choices of point estimates."
   ]
  },
  {
   "cell_type": "markdown",
   "metadata": {},
   "source": [
    "### Extra: Creating results_df"
   ]
  },
  {
   "cell_type": "code",
   "execution_count": 89,
   "metadata": {},
   "outputs": [],
   "source": [
    "# Round all float columns to 5 decimal places\n",
    "df = df.round(5)\n",
    "results_df = theta_average[['id', 'theta_average']]\n",
    "\n",
    "#print(results_df)"
   ]
  },
  {
   "cell_type": "markdown",
   "metadata": {},
   "source": [
    "***It's hard for me to see exactly what I'm doing, so I want to create a separate file named Datafile_Frequentist.csv***"
   ]
  },
  {
   "cell_type": "markdown",
   "metadata": {},
   "source": [
    "### (b) Provide a point estimate for the parameters $\\left[\\alpha_i, \\beta_i\\right]^{\\mathrm{T}}$ for each skateboarder $i$. "
   ]
  },
  {
   "cell_type": "markdown",
   "metadata": {},
   "source": [
    "\n",
    "#### ANALYTICAL ANSWER:"
   ]
  },
  {
   "cell_type": "markdown",
   "metadata": {},
   "source": [
    "https://en.wikipedia.org/wiki/Gamma_distribution\n",
    "\n",
    "https://en.wikipedia.org/wiki/Beta_distribution\n",
    "\n",
    "---\n",
    "\n",
    "For the Beta distribution:\n",
    "$$\n",
    "f\\left(z_i \\mid \\alpha_i, \\beta_i\\right)=\\frac{z_i^{\\alpha_i-1}\\left(1-z_i\\right)^{\\beta_i-1}}{B\\left(\\alpha_i, \\beta_i\\right)}\n",
    "$$\n",
    "where $B\\left(\\alpha_i, \\beta_i\\right)$ is the beta function, which acts as a normalization constant.\n",
    "\n",
    "From the provided data, we have scores for each trick when it's not zero. \n",
    "To estimate $\\alpha_i$ and $\\beta_i$, we can make use of the mean and variance properties of the Beta distribution.\n",
    "\n",
    "To the population mean and variance, we knwo from formula sheet:\n",
    "\n",
    "- Mean: $\\mu=\\frac{\\alpha_i}{\\alpha_i+\\beta_i}$\n",
    "- Variance: $\\sigma^2=\\frac{\\alpha_i \\beta_i}{\\left(\\alpha_i+\\beta_i\\right)^2\\left(\\alpha_i+\\beta_i+1\\right)}$\n",
    "\n",
    "$$\n",
    "\\mu = \\frac{\\alpha}{\\alpha+\\beta} \\quad \\text { and } \\quad S^2 = \\frac{\\alpha \\beta}{(\\alpha+\\beta)^2(\\alpha+\\beta+1)} .\n",
    "$$\n",
    "Solving for $\\alpha$ and $\\beta$:\n",
    "$$\n",
    "\\beta = \\frac{\\alpha - \\alpha \\mu}{\\mu} = \\frac{\\alpha}{\\mu} - \\alpha .\n",
    "$$\n",
    "After substituting and simplifying, we find:\n",
    "$$\n",
    "\\alpha = \\mu\\left(\\frac{\\mu(1-\\mu)}{S^2}-1\\right) .\n",
    "$$\n",
    "Expressing $\\beta$ using $\\mu$ and $S^2$:\n",
    "$$\n",
    "\\beta = (1-\\mu)\\left(\\frac{\\mu(1-\\mu)}{S^2}-1\\right) .\n",
    "$$\n",
    "THence, we can derive the method of moment estimators for $\\alpha$ and $\\beta$ are:\n",
    "$$\n",
    "\\hat{\\alpha} = \\mu\\left(\\frac{\\mu(1-\\mu)}{S^2}-1\\right) \\text { and } \\hat{\\beta} = (1-\\mu)\\left(\\frac{\\mu(1-\\mu)}{S^2}-1\\right)\n",
    "$$\n",
    "\n",
    "\n",
    "---\n",
    "\n",
    "We can write:\n",
    "$$\n",
    "f\\left(x_i \\mid \\alpha, \\beta, V_i=1\\right) = f\\left(z_i \\mid \\alpha, \\beta\\right) = L\\left(\\alpha, \\beta \\mid V_i=1, X_i=x_i\\right)\n",
    "$$\n",
    "\n",
    "Lets rewrite the $\\mathrm{B}(\\alpha, \\beta)$ function:\n",
    "\n",
    "\n",
    "$$\n",
    "\\mathrm{B}(\\alpha, \\beta)=\\frac{\\Gamma(\\alpha) \\Gamma(\\beta)}{\\Gamma(\\alpha+\\beta)}\n",
    "$$\n",
    "\n",
    "Now let's do the only thing we, God willing, know how to do: a ML point estimation.\n",
    "\n",
    "$$\n",
    "f_z(z \\mid \\alpha, \\beta)=\\frac{\\Gamma(\\alpha+\\beta)}{\\Gamma(\\alpha) \\Gamma(\\beta)} z^{\\alpha-1}(1-z)^{\\beta-1}\n",
    "$$\n",
    "\n",
    "$$\n",
    "\\log L(\\alpha, \\beta \\mid z)=\\log \\prod_{i=1}^n\\left(\\frac{\\Gamma(\\alpha+\\beta)}{\\Gamma(\\alpha) \\Gamma(\\beta)} z_i^{\\alpha-1}\\left(1-z_i\\right)^{\\beta-1}\\right)\n",
    "$$\n",
    "\n",
    "$$\n",
    "=n \\log \\left(\\frac{\\Gamma(\\alpha+\\beta)}{\\Gamma(\\alpha) \\Gamma(\\beta)}\\right)+(\\alpha-1) \\sum_i^n \\log z_i+(\\beta-1) \\sum_{i=1}^n \\log \\left(1-z_i\\right)\n",
    "$$\n",
    "\n",
    "We take derivatives with respect to $\\alpha$ and $\\beta$.\n",
    "\n",
    "For the first term, using the properties of logarithms and the derivative of the Gamma function, $\\psi(z)=\\frac{d}{d z} \\log \\Gamma(z)$, this we found online...\n",
    "\n",
    "$$\n",
    "\\frac{\\partial L}{\\partial \\alpha}=n \\psi(\\alpha+\\beta)-n \\psi(\\alpha)+\\sum_{i=1}^n \\log z_i\n",
    "$$\n",
    "\n",
    "$$\n",
    "\\frac{\\partial L}{\\partial \\beta}=n \\psi(\\alpha+\\beta)-n \\psi(\\beta)+\\sum_i^n \\log \\left(1-z_i\\right)\n",
    "$$\n",
    "\n",
    "We can rewrite this as:\n",
    "\n",
    "$$\n",
    "\\begin{aligned}\n",
    "& \\frac{\\partial L}{\\partial \\alpha}=\\psi(\\alpha)-\\psi(\\alpha+\\beta)-\\frac{1}{n} \\sum_{i=1}^n \\log \\left(z_i\\right) \\\\\n",
    "& \\frac{\\partial L}{\\partial \\beta}=\\psi(\\beta)-\\psi(\\alpha+\\beta)-\\frac{1}{n} \\sum_{i=1}^n \\log \\left(1-z_i\\right)\n",
    "\\end{aligned}\n",
    "$$\n",
    "\n",
    "\n",
    "*I guess this is the equivalent of running headfirst into a wall...*"
   ]
  },
  {
   "cell_type": "markdown",
   "metadata": {},
   "source": [
    "#### NUMERICAL ANSWER:"
   ]
  },
  {
   "cell_type": "markdown",
   "metadata": {},
   "source": [
    "##### Getting the data"
   ]
  },
  {
   "cell_type": "code",
   "execution_count": 90,
   "metadata": {},
   "outputs": [],
   "source": [
    "def aggregate_tricks(tricks):\n",
    "    # This function aggregates the tricks by filtering out zero values\n",
    "    return list(tricks[tricks != 0])"
   ]
  },
  {
   "cell_type": "code",
   "execution_count": 91,
   "metadata": {},
   "outputs": [
    {
     "name": "stdout",
     "output_type": "stream",
     "text": [
      "           id                                             tricks\n",
      "0      Berger                                        [0.7, 0.76]\n",
      "1     Decenzo         [0.78, 0.86, 0.87, 0.86, 0.78, 0.93, 0.71]\n",
      "2       Eaton                     [0.75, 0.84, 0.84, 0.77, 0.75]\n",
      "3         Foy                  [0.8, 0.79, 0.83, 0.9, 0.88, 0.9]\n",
      "4        Fynn                [0.88, 0.9, 0.76, 0.74, 0.86, 0.82]\n",
      "5     Gustavo     [0.83, 0.77, 0.8, 0.8, 0.74, 0.83, 0.88, 0.76]\n",
      "6       Hoban   [0.82, 0.91, 0.86, 0.86, 0.92, 0.89, 0.88, 0.88]\n",
      "7     Hoefler         [0.85, 0.73, 0.78, 0.67, 0.78, 0.87, 0.75]\n",
      "8    Horigome  [0.88, 0.95, 0.87, 0.95, 0.84, 0.95, 0.83, 0.9...\n",
      "9      Huston                                 [0.86, 0.88, 0.92]\n",
      "10     Jordan       [0.84, 0.9, 0.88, 0.9, 0.9, 0.7, 0.88, 0.91]\n",
      "11     Joslin  [0.84, 0.81, 0.79, 0.85, 0.85, 0.86, 0.83, 0.8...\n",
      "12    Majerus                                  [0.79, 0.4, 0.36]\n",
      "13    McClung                                             [0.45]\n",
      "14     Midler                           [0.79, 0.73, 0.87, 0.84]\n",
      "15      Milou  [0.86, 0.86, 0.86, 0.83, 0.75, 0.88, 0.9, 0.9,...\n",
      "16       Mota                                 [0.78, 0.69, 0.87]\n",
      "17   Oliveira                      [0.71, 0.82, 0.83, 0.8, 0.81]\n",
      "18    O’neill                                 [0.83, 0.85, 0.85]\n",
      "19       Papa          [0.72, 0.89, 0.73, 0.84, 0.65, 0.8, 0.82]\n",
      "20    Pudwill                                  [0.56, 0.55, 0.7]\n",
      "21  Ribeiro C                                  [0.79, 0.8, 0.74]\n",
      "22  Ribeiro G  [0.87, 0.92, 0.88, 0.92, 0.91, 0.92, 0.81, 0.9...\n",
      "23  Rodriguez                            [0.7, 0.73, 0.83, 0.74]\n",
      "24   Santiago                                             [0.47]\n",
      "25     Shirai    [0.75, 0.96, 0.93, 0.9, 0.86, 0.92, 0.93, 0.93]\n",
      "26     Silvas                                  [0.81, 0.8, 0.83]\n",
      "27      Suciu                     [0.86, 0.78, 0.76, 0.72, 0.72]\n",
      "28       Wair                                       [0.84, 0.63]\n",
      "29     Wright                                             [0.72]\n"
     ]
    }
   ],
   "source": [
    "trick_columns = ['trick 1', 'trick 2', 'trick 3', 'trick 4']\n",
    "\n",
    "# Group by 'id' and aggregate tricks for each skateboarder\n",
    "all_tricks_df = df.melt(id_vars='id', value_vars=trick_columns)\\\n",
    "                  .groupby('id')['value']\\\n",
    "                  .agg(aggregate_tricks)\\\n",
    "                  .reset_index()\n",
    "\n",
    "# Rename the columns for clarity\n",
    "all_tricks_df.columns = ['id', 'tricks']\n",
    "\n",
    "# Print the result\n",
    "print(all_tricks_df)"
   ]
  },
  {
   "cell_type": "code",
   "execution_count": 92,
   "metadata": {},
   "outputs": [
    {
     "name": "stdout",
     "output_type": "stream",
     "text": [
      "           id                                             tricks\n",
      "0      Berger  [0.7, 0.0, 0.0, 0.0, 0.0, 0.0, 0.76, 0.0, 0.0,...\n",
      "1     Decenzo  [0.78, 0.86, 0.87, 0.0, 0.0, 0.0, 0.0, 0.86, 0...\n",
      "2       Eaton      [0.75, 0.0, 0.84, 0.84, 0.77, 0.75, 0.0, 0.0]\n",
      "3         Foy  [0.8, 0.0, 0.79, 0.83, 0.9, 0.0, 0.88, 0.9, 0....\n",
      "4        Fynn  [0.88, 0.0, 0.0, 0.9, 0.76, 0.74, 0.0, 0.86, 0...\n",
      "5     Gustavo  [0.83, 0.0, 0.77, 0.8, 0.8, 0.74, 0.0, 0.0, 0....\n",
      "6       Hoban  [0.0, 0.82, 0.91, 0.86, 0.86, 0.0, 0.92, 0.89,...\n",
      "7     Hoefler  [0.0, 0.85, 0.73, 0.78, 0.67, 0.0, 0.0, 0.0, 0...\n",
      "8    Horigome  [0.88, 0.95, 0.87, 0.95, 0.0, 0.0, 0.0, 0.0, 0...\n",
      "9      Huston        [0.86, 0.0, 0.88, 0.0, 0.0, 0.0, 0.0, 0.92]\n",
      "10     Jordan  [0.0, 0.0, 0.84, 0.9, 0.0, 0.0, 0.0, 0.0, 0.0,...\n",
      "11     Joslin  [0.0, 0.84, 0.0, 0.81, 0.79, 0.85, 0.85, 0.86,...\n",
      "12    Majerus         [0.79, 0.4, 0.0, 0.0, 0.0, 0.0, 0.36, 0.0]\n",
      "13    McClung                              [0.45, 0.0, 0.0, 0.0]\n",
      "14     Midler  [0.0, 0.79, 0.0, 0.0, 0.0, 0.73, 0.87, 0.0, 0....\n",
      "15      Milou  [0.86, 0.86, 0.0, 0.86, 0.83, 0.75, 0.0, 0.88,...\n",
      "16       Mota  [0.78, 0.0, 0.69, 0.0, 0.87, 0.0, 0.0, 0.0, 0....\n",
      "17   Oliveira  [0.0, 0.0, 0.0, 0.0, 0.0, 0.71, 0.0, 0.82, 0.8...\n",
      "18    O’neill  [0.83, 0.85, 0.0, 0.0, 0.0, 0.0, 0.85, 0.0, 0....\n",
      "19       Papa  [0.72, 0.89, 0.73, 0.0, 0.0, 0.0, 0.0, 0.0, 0....\n",
      "20    Pudwill  [0.0, 0.0, 0.56, 0.0, 0.0, 0.0, 0.0, 0.0, 0.0,...\n",
      "21  Ribeiro C  [0.79, 0.8, 0.74, 0.0, 0.0, 0.0, 0.0, 0.0, 0.0...\n",
      "22  Ribeiro G  [0.0, 0.87, 0.92, 0.0, 0.0, 0.0, 0.88, 0.0, 0....\n",
      "23  Rodriguez        [0.7, 0.73, 0.0, 0.0, 0.83, 0.74, 0.0, 0.0]\n",
      "24   Santiago  [0.0, 0.0, 0.47, 0.0, 0.0, 0.0, 0.0, 0.0, 0.0,...\n",
      "25     Shirai  [0.75, 0.96, 0.0, 0.93, 0.0, 0.0, 0.9, 0.0, 0....\n",
      "26     Silvas         [0.81, 0.8, 0.83, 0.0, 0.0, 0.0, 0.0, 0.0]\n",
      "27      Suciu      [0.86, 0.78, 0.76, 0.72, 0.0, 0.0, 0.72, 0.0]\n",
      "28       Wair                             [0.0, 0.0, 0.84, 0.63]\n",
      "29     Wright                              [0.0, 0.0, 0.72, 0.0]\n"
     ]
    }
   ],
   "source": [
    "trick_columns = ['trick 1', 'trick 2', 'trick 3', 'trick 4']\n",
    "# Group by 'id' and aggregate tricks for each skateboarder\n",
    "all_tricks_df_with_zeroes = df.melt(id_vars='id', value_vars=trick_columns)\\\n",
    "                  .groupby('id')['value']\\\n",
    "                  .apply(list)\\\n",
    "                  .reset_index()\n",
    "# Rename the columns for clarity\n",
    "all_tricks_df_with_zeroes.columns = ['id', 'tricks']\n",
    "# Print the result\n",
    "print(all_tricks_df_with_zeroes)"
   ]
  },
  {
   "cell_type": "markdown",
   "metadata": {},
   "source": [
    "##### Moment estimators"
   ]
  },
  {
   "cell_type": "code",
   "execution_count": 93,
   "metadata": {},
   "outputs": [],
   "source": [
    "def get_moment_estimators (data):\n",
    "    moment_estimators=[]\n",
    "    \n",
    "    # Calculate mean\n",
    "    mean = np.mean(data)\n",
    "\n",
    "    # Calculate variance\n",
    "    variance = np.var(data, ddof=1)\n",
    "    # ddof=1 means that we want to calculate the sample variance\n",
    "    #-----------------------------------\n",
    "    \n",
    "    # Calculate a1\n",
    "    a1 = mean * (mean * (1 - mean) / variance - 1)\n",
    "    moment_estimators.append(a1)\n",
    "    \n",
    "    # Calculate b1\n",
    "    b1 = (1 - mean) * (mean * (1 - mean) / variance - 1)\n",
    "    moment_estimators.append(b1)\n",
    "    \n",
    "    return moment_estimators"
   ]
  },
  {
   "cell_type": "markdown",
   "metadata": {},
   "source": [
    "\n",
    "##### Gradient descent"
   ]
  },
  {
   "cell_type": "markdown",
   "metadata": {},
   "source": [
    "###### Math and gameplan"
   ]
  },
  {
   "cell_type": "markdown",
   "metadata": {},
   "source": [
    "*Let's do gradient descent and try to solve it numerically.*\n",
    "\n",
    "Basic game plan:\n",
    "\n",
    "1. ***Initialization:*** We choose initial values for $\\alpha$ and $\\beta$ at random or choose something sensible via prior knowledge.\n",
    "\n",
    "2. ***Compute Gradient:*** At each iteration, we compute the gradient of the log-likelihood function with respect to $\\alpha$ and $\\beta$.\n",
    "$$\n",
    "\\frac{\\partial L}{\\partial \\alpha} \\text { and } \\frac{\\partial L}{\\partial \\beta}\n",
    "$$\n",
    "3. ***Update Parameters:*** Update $\\alpha$ and $\\beta$ using the gradients:\n",
    "Where $\\eta$ is the learning rate. It's a hyperparameter that you'll need to set. A smaller value will make the optimization more stable but slower, while a larger value will speed up the optimization but can make it overshoot or even diverge.\n",
    "$$\n",
    "\\begin{aligned}\n",
    "& \\alpha=\\alpha+\\eta \\frac{\\partial L}{\\partial \\alpha} \\\\\n",
    "& \\beta=\\beta+\\eta \\frac{\\partial L}{\\partial \\beta}\n",
    "\\end{aligned}\n",
    "$$\n",
    "\n",
    "\n",
    "4. ***Convergence Check***: Repeat steps 2 and 3 until we get change in the log-likelihood between iterations is below a predetermined threshold, or until a set number of iterations is reached.\n",
    "\n",
    "5. ***Output***: Once convergence is achieved, the values of $\\alpha$ and $\\beta$ are your MLEs.\n",
    "\n",
    "6.  ***Invoke the name of Olof***: This will remind you of how this is simmilar to what we did in SF1550."
   ]
  },
  {
   "cell_type": "markdown",
   "metadata": {},
   "source": [
    "***Initial guess use method of moments***\n",
    "\n",
    "- Method of moments estimator we equate the population moments with the sample moments specifically the first and second moments.\n",
    "- Then we solve for $\\alpha$ and $\\beta$ to get our moment estimators.\n"
   ]
  },
  {
   "cell_type": "markdown",
   "metadata": {},
   "source": [
    "###### Code"
   ]
  },
  {
   "cell_type": "code",
   "execution_count": 94,
   "metadata": {},
   "outputs": [],
   "source": [
    "\n",
    "def gradient(alpha_beta, data):\n",
    "    alpha, beta = alpha_beta\n",
    "    n = len(data)\n",
    "    \n",
    "    psi_alpha_plus_beta = sp.psi(alpha + beta)\n",
    "    psi_alpha = sp.psi(alpha)\n",
    "    psi_beta = sp.psi(beta)\n",
    "    \n",
    "    grad_alpha = psi_alpha - psi_alpha_plus_beta - (1/n)*np.sum(np.log(data))\n",
    "    grad_beta = psi_beta - psi_alpha_plus_beta - (1/n)*np.sum(np.log(1 - data))\n",
    "        \n",
    "    return np.array([grad_alpha, grad_beta])"
   ]
  },
  {
   "cell_type": "code",
   "execution_count": 95,
   "metadata": {},
   "outputs": [],
   "source": [
    "def graddes(initialization, stepsize, num_iter, data):\n",
    "    thetas = [initialization]\n",
    "    \n",
    "    for i in range(num_iter):\n",
    "        thetas = thetas + [thetas[-1] - (stepsize)*gradient(thetas[-1], data)]\n",
    "        \n",
    "    return thetas"
   ]
  },
  {
   "cell_type": "code",
   "execution_count": 96,
   "metadata": {},
   "outputs": [],
   "source": [
    "def gradient_method(samps):\n",
    "    \n",
    "    initialization = get_moment_estimators (samps)\n",
    "    G = graddes(initialization, 0.003, 100, samps)\n",
    "    \n",
    "    return G"
   ]
  },
  {
   "cell_type": "code",
   "execution_count": 97,
   "metadata": {},
   "outputs": [
    {
     "name": "stdout",
     "output_type": "stream",
     "text": [
      "           id   alpha    beta\n",
      "0      Berger   79.20   29.29\n",
      "1     Decenzo   20.84    4.36\n",
      "2       Eaton   60.17   15.99\n",
      "3         Foy   42.85    7.56\n",
      "4        Fynn   26.94    5.65\n",
      "5     Gustavo   61.71   15.31\n",
      "6       Hoban   94.13   13.14\n",
      "7     Hoefler   27.77    8.03\n",
      "8    Horigome   30.97    3.31\n",
      "9      Huston   94.58   12.09\n",
      "10     Jordan   20.07    3.17\n",
      "11     Joslin  228.44   45.32\n",
      "12    Majerus    1.77    1.66\n",
      "13    McClung     NaN     NaN\n",
      "14     Midler   32.59    7.77\n",
      "15      Milou   33.18    6.16\n",
      "16       Mota   15.74    4.44\n",
      "17   Oliveira   54.94   14.26\n",
      "18    O’neill  834.83  155.09\n",
      "19       Papa   19.02    5.41\n",
      "20    Pudwill   19.93   13.10\n",
      "21  Ribeiro C  129.59   37.27\n",
      "22  Ribeiro G   36.93    5.11\n",
      "23  Rodriguez   44.13   14.71\n",
      "24   Santiago     NaN     NaN\n",
      "25     Shirai   17.90    2.04\n",
      "26     Silvas  528.40  121.27\n",
      "27      Suciu   40.45   12.22\n",
      "28       Wair    5.76    2.08\n",
      "29     Wright     NaN     NaN\n"
     ]
    },
    {
     "name": "stderr",
     "output_type": "stream",
     "text": [
      "C:\\Users\\villi\\AppData\\Local\\Packages\\PythonSoftwareFoundation.Python.3.10_qbz5n2kfra8p0\\LocalCache\\local-packages\\Python310\\site-packages\\numpy\\core\\fromnumeric.py:3715: RuntimeWarning: Degrees of freedom <= 0 for slice\n",
      "  return _methods._var(a, axis=axis, dtype=dtype, out=out, ddof=ddof,\n",
      "C:\\Users\\villi\\AppData\\Local\\Packages\\PythonSoftwareFoundation.Python.3.10_qbz5n2kfra8p0\\LocalCache\\local-packages\\Python310\\site-packages\\numpy\\core\\_methods.py:257: RuntimeWarning: invalid value encountered in double_scalars\n",
      "  ret = ret.dtype.type(ret / rcount)\n"
     ]
    }
   ],
   "source": [
    "for index, row in all_tricks_df.iterrows():\n",
    "    samps = np.array(row['tricks'])\n",
    "    alpha_beta = get_moment_estimators(samps)\n",
    "    \n",
    "    all_tricks_df.at[index, 'alpha'] = round(alpha_beta[0],2)\n",
    "    all_tricks_df.at[index, 'beta'] = round(alpha_beta[1],2)\n",
    "\n",
    "print(all_tricks_df[['id', 'alpha', 'beta']])\n"
   ]
  },
  {
   "cell_type": "markdown",
   "metadata": {},
   "source": [
    "#####  Newton-Raphson or Gauss-Newton method."
   ]
  },
  {
   "cell_type": "markdown",
   "metadata": {},
   "source": [
    "###### Math and gameplan"
   ]
  },
  {
   "cell_type": "markdown",
   "metadata": {},
   "source": [
    "$$\n",
    "\\begin{aligned}\n",
    "& \\frac{\\partial L}{\\partial \\alpha}=\\psi(\\alpha)-\\psi(\\alpha+\\beta)-\\frac{1}{n} \\sum_{i=1}^n \\log \\left(z_i\\right) \\\\\n",
    "& \\frac{\\partial L}{\\partial \\beta}=\\psi(\\beta)-\\psi(\\alpha+\\beta)-\\frac{1}{n} \\sum_{i=1}^n \\log \\left(1-z_i\\right)\n",
    "\\end{aligned}\n",
    "$$\n",
    "\n",
    "\n",
    "$$\n",
    "J=\\left|\\begin{array}{ll}\n",
    "\\psi^{\\prime}(\\alpha)-\\psi^{\\prime}(\\alpha+\\beta) & -\\psi^{\\prime}(\\alpha+\\beta) \\\\\n",
    "-\\psi^{\\prime}(\\alpha+\\beta)  & \\psi^{\\prime}(\\beta)-\\psi^{\\prime}(\\alpha+\\beta)\n",
    "\\end{array}\\right|\n",
    "$$\n",
    "\n",
    "$$\n",
    "\\left[\\begin{array}{l}\n",
    "\\alpha \\\\\n",
    "\\beta\n",
    "\\end{array}\\right]_{\\text{NM}}=\\left[\\begin{array}{l}\n",
    "\\alpha \\\\\n",
    "\\beta\n",
    "\\end{array}\\right]_N-J^{-1}\\left(\\left[\\begin{array}{l}\n",
    "\\alpha \\\\\n",
    "\\beta\n",
    "\\end{array}\\right]_N\\right)\\left[\\begin{array}{l}\n",
    "f_1((\\alpha, \\beta)_N) \\\\\n",
    "f_2((\\alpha, \\beta)_N)\n",
    "\\end{array}\\right]\n",
    "$$\n",
    "\n",
    "We repeat this untile convergence."
   ]
  },
  {
   "cell_type": "markdown",
   "metadata": {},
   "source": [
    "###### Code"
   ]
  },
  {
   "cell_type": "code",
   "execution_count": 98,
   "metadata": {},
   "outputs": [],
   "source": [
    "def Gauss_Raphson_method (data , tolerance=1e-6, max_iter=1000):\n",
    "    \n",
    "    alpha_beta = get_moment_estimators(data)\n",
    "    alpha, beta = alpha_beta\n",
    "    \n",
    "    n = len(data)\n",
    "    \n",
    "    alpha_0, beta_0=alpha,beta\n",
    "\n",
    "    theta = np.array([alpha_0, beta_0])\n",
    "    \n",
    "    for _ in range(max_iter):\n",
    "\n",
    "        f = np.array([\n",
    "            sp.psi(theta[0]) - sp.psi(np.sum(theta)) - np.mean(np.log(data)),\n",
    "            sp.psi(theta[1]) - sp.psi(np.sum(theta)) - np.mean(np.log(1 - data))\n",
    "        ])\n",
    "\n",
    "        J = np.linalg.inv(np.array([\n",
    "            [sp.polygamma(1, (theta[0])) - sp.polygamma(1, np.sum(theta)), -sp.polygamma(1, np.sum(theta))],\n",
    "            [-sp.polygamma(1, np.sum(theta)), sp.polygamma(1, theta[1]) - sp.polygamma(1, np.sum(theta))]\n",
    "        ]))\n",
    "\n",
    "        # Newton-Raphson update\n",
    "        J_inv = np.linalg.inv(J)\n",
    "        theta = theta - J_inv @ f\n",
    "\n",
    "        if np.linalg.norm(f) <= tolerance:\n",
    "            return theta\n",
    "    \n",
    "    return theta\n",
    "        "
   ]
  },
  {
   "cell_type": "code",
   "execution_count": 99,
   "metadata": {},
   "outputs": [
    {
     "name": "stdout",
     "output_type": "stream",
     "text": [
      "           id  alpha_trick  beta_trick\n",
      "0      Berger        79.17       29.40\n",
      "1     Decenzo        20.84        4.41\n",
      "2       Eaton        60.15       16.06\n",
      "3         Foy        42.84        7.64\n",
      "4        Fynn        26.92        5.74\n",
      "5     Gustavo        61.71       15.33\n",
      "6       Hoban        94.12       13.21\n",
      "7     Hoefler        27.75        8.08\n",
      "8    Horigome        30.96        3.37\n",
      "9      Huston        94.56       12.22\n",
      "10     Jordan        20.06        3.36\n",
      "11     Joslin       228.44       45.35\n",
      "12    Majerus         3.01        2.73\n",
      "13    McClung         3.01        2.73\n",
      "14     Midler        32.56        7.89\n",
      "15      Milou        33.16        6.27\n",
      "16       Mota        15.73        4.58\n",
      "17   Oliveira        54.91       14.39\n",
      "18    O’neill       834.83      155.09\n",
      "19       Papa        19.00        5.47\n",
      "20    Pudwill        19.90       13.15\n",
      "21  Ribeiro C       129.58       37.33\n",
      "22  Ribeiro G        36.92        5.20\n",
      "23  Rodriguez        44.11       14.77\n",
      "24   Santiago        44.11       14.77\n",
      "25     Shirai        17.90        2.22\n",
      "26     Silvas       528.39      121.28\n",
      "27      Suciu        40.44       12.25\n",
      "28       Wair         6.20        2.44\n",
      "29     Wright         6.20        2.44\n"
     ]
    }
   ],
   "source": [
    "for index, row in all_tricks_df.iterrows():\n",
    "    samps = np.array(row['tricks'])\n",
    "    \n",
    "    if len(samps) <= 1:\n",
    "        samps = np.array(all_tricks_df.loc[index, 'tricks'])\n",
    "    else:\n",
    "        try:\n",
    "            alpha_beta = Gauss_Raphson_method(samps)\n",
    "        except:\n",
    "            alpha_beta = get_moment_estimators(samps)\n",
    "            \n",
    "    all_tricks_df.at[index, 'alpha_trick'] = round(alpha_beta[0],2)\n",
    "    all_tricks_df.at[index, 'beta_trick'] = round(alpha_beta[1],2)\n",
    "\n",
    "print(all_tricks_df[['id', 'alpha_trick', 'beta_trick']])"
   ]
  },
  {
   "cell_type": "markdown",
   "metadata": {},
   "source": [
    "###### Adding results to the results_df"
   ]
  },
  {
   "cell_type": "code",
   "execution_count": 100,
   "metadata": {},
   "outputs": [
    {
     "name": "stdout",
     "output_type": "stream",
     "text": [
      "           id  theta_average  alpha_trick  beta_trick\n",
      "0      Berger       0.166667        79.17       29.40\n",
      "1     Decenzo       0.437500        20.84        4.41\n",
      "2       Eaton       0.625000        60.15       16.06\n",
      "3         Foy       0.500000        42.84        7.64\n",
      "4        Fynn       0.500000        26.92        5.74\n",
      "5     Gustavo       0.400000        61.71       15.33\n",
      "6       Hoban       0.400000        94.12       13.21\n",
      "7     Hoefler       0.437500        27.75        8.08\n",
      "8    Horigome       0.562500        30.96        3.37\n",
      "9      Huston       0.375000        94.56       12.22\n",
      "10     Jordan       0.400000        20.06        3.36\n",
      "11     Joslin       0.450000       228.44       45.35\n",
      "12    Majerus       0.375000         3.01        2.73\n",
      "13    McClung       0.250000         3.01        2.73\n",
      "14     Midler       0.333333        32.56        7.89\n",
      "15      Milou       0.450000        33.16        6.27\n",
      "16       Mota       0.250000        15.73        4.58\n",
      "17   Oliveira       0.416667        54.91       14.39\n",
      "18    O’neill       0.250000       834.83      155.09\n",
      "19       Papa       0.437500        19.00        5.47\n",
      "20    Pudwill       0.250000        19.90       13.15\n",
      "21  Ribeiro C       0.250000       129.58       37.33\n",
      "22  Ribeiro G       0.541667        36.92        5.20\n",
      "23  Rodriguez       0.500000        44.11       14.77\n",
      "24   Santiago       0.083333        44.11       14.77\n",
      "25     Shirai       0.400000        17.90        2.22\n",
      "26     Silvas       0.375000       528.39      121.28\n",
      "27      Suciu       0.625000        40.44       12.25\n",
      "28       Wair       0.500000         6.20        2.44\n",
      "29     Wright       0.250000         6.20        2.44\n"
     ]
    }
   ],
   "source": [
    "results_df['alpha_trick'] = all_tricks_df['alpha_trick']\n",
    "results_df['beta_trick'] = all_tricks_df['beta_trick']\n",
    "\n",
    "print(results_df)"
   ]
  },
  {
   "cell_type": "markdown",
   "metadata": {},
   "source": [
    "###### Print graphs"
   ]
  },
  {
   "cell_type": "code",
   "execution_count": 101,
   "metadata": {},
   "outputs": [],
   "source": [
    "#for index, row in all_tricks_df.iterrows():\n",
    "#    samps = stats.beta.rvs(size=500, a=row['alpha'], b=row['beta'], scale=1)\n",
    "#    plt.figure()\n",
    "#    plt.hist(samps)\n",
    "#    plt.title(row['id'])\n",
    "#    plt.xlabel('Score')\n",
    "#    plt.ylabel('Frequency')\n",
    "#    plt.show()"
   ]
  },
  {
   "cell_type": "markdown",
   "metadata": {},
   "source": [
    "### (c) Propose a model for $Y_i$ and provide a point estimate for the parameters of your model. "
   ]
  },
  {
   "cell_type": "markdown",
   "metadata": {},
   "source": [
    "###### Code"
   ]
  },
  {
   "cell_type": "code",
   "execution_count": 102,
   "metadata": {},
   "outputs": [
    {
     "name": "stdout",
     "output_type": "stream",
     "text": [
      "           id                                               runs\n",
      "0      Berger                [0.5, 0.22, 0.61, 0.11, 0.42, 0.41]\n",
      "1     Decenzo    [0.46, 0.83, 0.69, 0.31, 0.5, 0.58, 0.85, 0.54]\n",
      "2       Eaton                           [0.75, 0.69, 0.79, 0.72]\n",
      "3         Foy                 [0.54, 0.45, 0.1, 0.49, 0.59, 0.6]\n",
      "4        Fynn                [0.59, 0.6, 0.36, 0.68, 0.29, 0.38]\n",
      "5     Gustavo  [0.84, 0.16, 0.77, 0.59, 0.28, 0.12, 0.89, 0.8...\n",
      "6       Hoban  [0.35, 0.75, 0.41, 0.51, 0.62, 0.9, 0.68, 0.78...\n",
      "7     Hoefler   [0.79, 0.68, 0.85, 0.84, 0.69, 0.71, 0.03, 0.57]\n",
      "8    Horigome    [0.74, 0.63, 0.82, 0.9, 0.76, 0.91, 0.87, 0.73]\n",
      "9      Huston                           [0.78, 0.55, 0.86, 0.91]\n",
      "10     Jordan  [0.73, 0.7, 0.84, 0.77, 0.26, 0.9, 0.9, 0.86, ...\n",
      "11     Joslin  [0.68, 0.48, 0.73, 0.7, 0.68, 0.79, 0.85, 0.88...\n",
      "12    Majerus                            [0.4, 0.69, 0.09, 0.48]\n",
      "13    McClung                                        [0.31, 0.3]\n",
      "14     Midler                [0.81, 0.8, 0.63, 0.74, 0.01, 0.68]\n",
      "15      Milou  [0.78, 0.4, 0.68, 0.92, 0.69, 0.86, 0.68, 0.74...\n",
      "16       Mota                [0.38, 0.81, 0.34, 0.4, 0.38, 0.51]\n",
      "17   Oliveira                [0.84, 0.48, 0.5, 0.47, 0.72, 0.42]\n",
      "18    O’neill               [0.87, 0.69, 0.11, 0.09, 0.75, 0.19]\n",
      "19       Papa    [0.37, 0.72, 0.78, 0.38, 0.7, 0.35, 0.13, 0.66]\n",
      "20    Pudwill                [0.2, 0.18, 0.27, 0.13, 0.21, 0.44]\n",
      "21  Ribeiro C               [0.69, 0.72, 0.14, 0.66, 0.76, 0.28]\n",
      "22  Ribeiro G  [0.81, 0.67, 0.75, 0.75, 0.8, 0.85, 0.57, 0.91...\n",
      "23  Rodriguez                            [0.7, 0.47, 0.55, 0.21]\n",
      "24   Santiago               [0.55, 0.19, 0.61, 0.41, 0.39, 0.14]\n",
      "25     Shirai  [0.79, 0.91, 0.63, 0.47, 0.65, 0.7, 0.92, 0.67...\n",
      "26     Silvas                           [0.62, 0.68, 0.02, 0.58]\n",
      "27      Suciu                           [0.31, 0.79, 0.65, 0.85]\n",
      "28       Wair                                       [0.37, 0.79]\n",
      "29     Wright                                        [0.3, 0.28]\n"
     ]
    }
   ],
   "source": [
    "#Create all runs.\n",
    "def aggregate_runs(runs):\n",
    "    # This function aggregates the runs by filtering out zero values\n",
    "    return list(runs[runs != 0])\n",
    "\n",
    "# Assuming the runs are stored in columns named 'run1', 'run2', 'run3', etc.\n",
    "run_columns = ['run 1', 'run 2']  # Add more columns if needed\n",
    "\n",
    "# Group by 'id' and aggregate runs for each skateboarder\n",
    "all_runs_df = df.melt(id_vars='id', value_vars=run_columns)\\\n",
    "                  .groupby('id')['value']\\\n",
    "                  .agg(aggregate_runs)\\\n",
    "                  .reset_index()\n",
    "\n",
    "# Rename the columns for clarity\n",
    "all_runs_df.columns = ['id', 'runs']\n",
    "\n",
    "# Print the result\n",
    "print(all_runs_df)\n",
    "\n"
   ]
  },
  {
   "cell_type": "code",
   "execution_count": 103,
   "metadata": {},
   "outputs": [
    {
     "name": "stdout",
     "output_type": "stream",
     "text": [
      "           id  alpha_run  beta_run\n",
      "0      Berger       2.46      4.07\n",
      "1     Decenzo       3.91      2.66\n",
      "2       Eaton      77.48     27.64\n",
      "3         Foy       2.80      3.46\n",
      "4        Fynn       4.45      4.75\n",
      "5     Gustavo       1.57      1.18\n",
      "6       Hoban       3.63      2.09\n",
      "7     Hoefler       1.41      1.02\n",
      "8    Horigome      12.91      3.39\n",
      "9      Huston       5.17      1.65\n",
      "10     Jordan       4.05      1.53\n",
      "11     Joslin       9.48      3.37\n",
      "12    Majerus       1.68      2.48\n",
      "13    McClung    1292.74   2945.76\n",
      "14     Midler      28.00     22.08\n",
      "15      Milou       5.96      2.62\n",
      "16       Mota       3.61      3.91\n",
      "17   Oliveira       4.62      3.41\n",
      "18    O’neill       1.00      1.26\n",
      "19       Papa       2.35      2.30\n",
      "20    Pudwill       3.58     10.95\n",
      "21  Ribeiro C       2.07      1.86\n",
      "22  Ribeiro G       5.04      2.01\n",
      "23  Rodriguez       3.05      3.31\n",
      "24   Santiago       2.47      4.00\n",
      "25     Shirai       1.57      1.09\n",
      "26     Silvas       7.58     15.78\n",
      "27      Suciu       3.23      1.81\n",
      "28       Wair       3.08      2.23\n",
      "29     Wright     298.27    730.23\n"
     ]
    }
   ],
   "source": [
    "for index, row in all_runs_df.iterrows():\n",
    "    samps = np.array(row['runs'])\n",
    "    alpha_beta = Gauss_Raphson_method(samps)\n",
    "    \n",
    "    all_runs_df.at[index, 'alpha_run'] = round(alpha_beta[0],2)\n",
    "    all_runs_df.at[index, 'beta_run'] = round(alpha_beta[1],2)\n",
    "\n",
    "print(all_runs_df[['id', 'alpha_run', 'beta_run']])"
   ]
  },
  {
   "cell_type": "markdown",
   "metadata": {},
   "source": [
    "- Justify your choices for the model and point estimate."
   ]
  },
  {
   "cell_type": "markdown",
   "metadata": {},
   "source": [
    "Answer"
   ]
  },
  {
   "cell_type": "markdown",
   "metadata": {},
   "source": [
    "###### Adding results to the results_df"
   ]
  },
  {
   "cell_type": "code",
   "execution_count": 104,
   "metadata": {},
   "outputs": [
    {
     "name": "stdout",
     "output_type": "stream",
     "text": [
      "           id  theta_average  alpha_trick  beta_trick  alpha_run  beta_run\n",
      "0      Berger       0.166667        79.17       29.40       2.46      4.07\n",
      "1     Decenzo       0.437500        20.84        4.41       3.91      2.66\n",
      "2       Eaton       0.625000        60.15       16.06      77.48     27.64\n",
      "3         Foy       0.500000        42.84        7.64       2.80      3.46\n",
      "4        Fynn       0.500000        26.92        5.74       4.45      4.75\n",
      "5     Gustavo       0.400000        61.71       15.33       1.57      1.18\n",
      "6       Hoban       0.400000        94.12       13.21       3.63      2.09\n",
      "7     Hoefler       0.437500        27.75        8.08       1.41      1.02\n",
      "8    Horigome       0.562500        30.96        3.37      12.91      3.39\n",
      "9      Huston       0.375000        94.56       12.22       5.17      1.65\n",
      "10     Jordan       0.400000        20.06        3.36       4.05      1.53\n",
      "11     Joslin       0.450000       228.44       45.35       9.48      3.37\n",
      "12    Majerus       0.375000         3.01        2.73       1.68      2.48\n",
      "13    McClung       0.250000         3.01        2.73    1292.74   2945.76\n",
      "14     Midler       0.333333        32.56        7.89      28.00     22.08\n",
      "15      Milou       0.450000        33.16        6.27       5.96      2.62\n",
      "16       Mota       0.250000        15.73        4.58       3.61      3.91\n",
      "17   Oliveira       0.416667        54.91       14.39       4.62      3.41\n",
      "18    O’neill       0.250000       834.83      155.09       1.00      1.26\n",
      "19       Papa       0.437500        19.00        5.47       2.35      2.30\n",
      "20    Pudwill       0.250000        19.90       13.15       3.58     10.95\n",
      "21  Ribeiro C       0.250000       129.58       37.33       2.07      1.86\n",
      "22  Ribeiro G       0.541667        36.92        5.20       5.04      2.01\n",
      "23  Rodriguez       0.500000        44.11       14.77       3.05      3.31\n",
      "24   Santiago       0.083333        44.11       14.77       2.47      4.00\n",
      "25     Shirai       0.400000        17.90        2.22       1.57      1.09\n",
      "26     Silvas       0.375000       528.39      121.28       7.58     15.78\n",
      "27      Suciu       0.625000        40.44       12.25       3.23      1.81\n",
      "28       Wair       0.500000         6.20        2.44       3.08      2.23\n",
      "29     Wright       0.250000         6.20        2.44     298.27    730.23\n"
     ]
    }
   ],
   "source": [
    "results_df['alpha_run'] = all_runs_df['alpha_run']\n",
    "results_df['beta_run'] = all_runs_df['beta_run']\n",
    "\n",
    "print(results_df)"
   ]
  },
  {
   "cell_type": "markdown",
   "metadata": {},
   "source": [
    "### Show my Paramter Results"
   ]
  },
  {
   "cell_type": "code",
   "execution_count": 105,
   "metadata": {},
   "outputs": [
    {
     "name": "stdout",
     "output_type": "stream",
     "text": [
      "           id  theta_average  alpha_trick  beta_trick  alpha_run  beta_run\n",
      "0      Berger       0.166667        79.17       29.40       2.46      4.07\n",
      "1     Decenzo       0.437500        20.84        4.41       3.91      2.66\n",
      "2       Eaton       0.625000        60.15       16.06      77.48     27.64\n",
      "3         Foy       0.500000        42.84        7.64       2.80      3.46\n",
      "4        Fynn       0.500000        26.92        5.74       4.45      4.75\n",
      "5     Gustavo       0.400000        61.71       15.33       1.57      1.18\n",
      "6       Hoban       0.400000        94.12       13.21       3.63      2.09\n",
      "7     Hoefler       0.437500        27.75        8.08       1.41      1.02\n",
      "8    Horigome       0.562500        30.96        3.37      12.91      3.39\n",
      "9      Huston       0.375000        94.56       12.22       5.17      1.65\n",
      "10     Jordan       0.400000        20.06        3.36       4.05      1.53\n",
      "11     Joslin       0.450000       228.44       45.35       9.48      3.37\n",
      "12    Majerus       0.375000         3.01        2.73       1.68      2.48\n",
      "13    McClung       0.250000         3.01        2.73    1292.74   2945.76\n",
      "14     Midler       0.333333        32.56        7.89      28.00     22.08\n",
      "15      Milou       0.450000        33.16        6.27       5.96      2.62\n",
      "16       Mota       0.250000        15.73        4.58       3.61      3.91\n",
      "17   Oliveira       0.416667        54.91       14.39       4.62      3.41\n",
      "18    O’neill       0.250000       834.83      155.09       1.00      1.26\n",
      "19       Papa       0.437500        19.00        5.47       2.35      2.30\n",
      "20    Pudwill       0.250000        19.90       13.15       3.58     10.95\n",
      "21  Ribeiro C       0.250000       129.58       37.33       2.07      1.86\n",
      "22  Ribeiro G       0.541667        36.92        5.20       5.04      2.01\n",
      "23  Rodriguez       0.500000        44.11       14.77       3.05      3.31\n",
      "24   Santiago       0.083333        44.11       14.77       2.47      4.00\n",
      "25     Shirai       0.400000        17.90        2.22       1.57      1.09\n",
      "26     Silvas       0.375000       528.39      121.28       7.58     15.78\n",
      "27      Suciu       0.625000        40.44       12.25       3.23      1.81\n",
      "28       Wair       0.500000         6.20        2.44       3.08      2.23\n",
      "29     Wright       0.250000         6.20        2.44     298.27    730.23\n"
     ]
    }
   ],
   "source": [
    "print(results_df)"
   ]
  },
  {
   "cell_type": "markdown",
   "metadata": {},
   "source": [
    "### (d) Simulate LCQs"
   ]
  },
  {
   "cell_type": "markdown",
   "metadata": {},
   "source": [
    "Use your model for $[X_i, Y_i]^T$ to simulate $5000$ LCQs and for each simulation extract the four skateboarders $\\mathbf{W} = [W_1, W_2, W_3, W_4]^T$ with the highest total scores. \n",
    "- What is the mode for $W_1, \\ldots, W_{5000}$? \n",
    "\n",
    "The actual winners for the LCQ are Gustavo, Hoban, Eaton, and Decenzo. \n",
    "\n",
    "- How many of the actual winners are predicted by the mode? \n",
    "- What is the estimated probability of the actual winners based on your simulations? By the mode?"
   ]
  },
  {
   "cell_type": "markdown",
   "metadata": {},
   "source": [
    "###### Code"
   ]
  },
  {
   "cell_type": "code",
   "execution_count": 106,
   "metadata": {},
   "outputs": [],
   "source": [
    "def successful_trick(theta):\n",
    "    made=bool(np.random.binomial(1, theta))\n",
    "    return made"
   ]
  },
  {
   "cell_type": "code",
   "execution_count": 107,
   "metadata": {},
   "outputs": [],
   "source": [
    "def trick_score(alpha, beta):\n",
    "    return stats.beta.rvs(alpha, beta, size=1)[0]"
   ]
  },
  {
   "cell_type": "code",
   "execution_count": 108,
   "metadata": {},
   "outputs": [],
   "source": [
    "def run_score(alpha, beta):\n",
    "    return stats.beta.rvs(alpha, beta, size=1)[0]"
   ]
  },
  {
   "cell_type": "code",
   "execution_count": 109,
   "metadata": {},
   "outputs": [],
   "source": [
    "def total_score(trick_scores, run_scores):\n",
    "    return max(run_scores) + sorted(trick_scores)[-1] + sorted(trick_scores)[-2]"
   ]
  },
  {
   "cell_type": "code",
   "execution_count": 110,
   "metadata": {},
   "outputs": [],
   "source": [
    "def sort_my_df(new_lcq_df):\n",
    "    sorted_df = new_lcq_df.sort_values(by='total score', ascending=False)\n",
    "    return sorted_df"
   ]
  },
  {
   "cell_type": "code",
   "execution_count": 111,
   "metadata": {},
   "outputs": [],
   "source": [
    "def simulate_lcq(results_df):\n",
    "    #del new_lcq_df\n",
    "    new_lcq_df = pd.DataFrame(columns=[\"id\", \"run 1\", \"run 2\", \"trick 1\", \"trick 2\", \"trick 3\", \"trick 4\"])\n",
    "    \n",
    "    for index, row in results_df.iterrows():\n",
    "        #theta_average  alpha_trick  beta_trick  alpha_run  beta_run\n",
    "        theta_average=row['theta_average']\n",
    "        alpha_trick=row['alpha_trick']\n",
    "        beta_trick=row['beta_trick']    \n",
    "        alpha_run=row['alpha_run']\n",
    "        beta_run=row['beta_run']\n",
    "        \n",
    "        new_lcq_df.at[index, \"id\"]=row['id']\n",
    "        \n",
    "        for _ in range(4):\n",
    "            if successful_trick(theta_average):\n",
    "                trick=trick_score(alpha_trick, beta_trick)\n",
    "            else:\n",
    "                trick=0\n",
    "            new_lcq_df.at[index, f\"trick {_+1}\"] = round(trick,1)\n",
    "        \n",
    "        for _ in range(2):\n",
    "            run=run_score(alpha_run, beta_run)\n",
    "            new_lcq_df.at[index, f\"run {_+1}\"] = round(run,1)\n",
    "        \n",
    "        total_score_value=total_score(new_lcq_df.loc[index, ['trick 1', 'trick 2', 'trick 3', 'trick 4']], new_lcq_df.loc[index, ['run 1', 'run 2']]) \n",
    "        new_lcq_df.at[index, \"total score\"]=round(total_score_value,1)\n",
    "    \n",
    "    return new_lcq_df\n",
    "\n",
    "        "
   ]
  },
  {
   "cell_type": "code",
   "execution_count": 112,
   "metadata": {},
   "outputs": [
    {
     "name": "stdout",
     "output_type": "stream",
     "text": [
      "           id run 1 run 2 trick 1 trick 2 trick 3 trick 4  total score\n",
      "0      Berger   0.1   0.4     0.8       0     0.7       0          1.9\n",
      "1     Decenzo   0.9   0.6       0       0       0     0.8          1.7\n",
      "2       Eaton   0.7   0.8     0.8     0.8       0     0.8          2.4\n",
      "3         Foy   0.6   0.7       0       0       0     0.8          1.5\n",
      "4        Fynn   0.2   0.5       0     0.8       0     0.8          2.1\n",
      "5     Gustavo   0.9   0.7       0     0.8       0       0          1.7\n",
      "6       Hoban   0.6   0.7     0.9     0.9     0.9       0          2.5\n",
      "7     Hoefler   0.8   0.7       0     0.8     0.7       0          2.3\n",
      "8    Horigome   0.8   0.9     1.0     0.9     0.8       0          2.8\n",
      "9      Huston   0.6   0.9       0     0.9       0     0.9          2.7\n",
      "10     Jordan   0.8   0.8     0.9     0.9     0.8       0          2.6\n",
      "11     Joslin   0.8   0.7     0.9     0.8       0     0.9          2.6\n",
      "12    Majerus   0.5   0.2       0     0.9     0.5     0.7          2.1\n",
      "13    McClung   0.3   0.3       0       0     0.3       0          0.6\n",
      "14     Midler   0.6   0.6       0       0       0       0          0.6\n",
      "15      Milou   0.7   0.7     0.8       0       0       0          1.5\n",
      "16       Mota   0.6   0.5     0.9     0.8       0       0          2.3\n",
      "17   Oliveira   0.4   0.5     0.8       0       0       0          1.3\n",
      "18    O’neill   0.5   0.4       0       0     0.8       0          1.3\n",
      "19       Papa   0.4   0.5       0       0     0.8     0.8          2.1\n",
      "20    Pudwill   0.4   0.2       0     0.6     0.6     0.6          1.6\n",
      "21  Ribeiro C   0.3   0.5       0       0       0       0          0.5\n",
      "22  Ribeiro G   0.8   0.8     0.9       0       0     0.9          2.6\n",
      "23  Rodriguez   0.7   0.5       0     0.8       0     0.8          2.3\n",
      "24   Santiago   0.1   0.2       0       0     0.7       0          0.9\n",
      "25     Shirai   0.4   0.9     0.9       0       0       0          1.8\n",
      "26     Silvas   0.2   0.4     0.8     0.8       0       0          2.0\n",
      "27      Suciu   0.7   0.3     0.7       0     0.9     0.8          2.4\n",
      "28       Wair   0.6   0.8     0.7       0       0     0.8          2.3\n",
      "29     Wright   0.3   0.3     0.6       0     0.6       0          1.5\n"
     ]
    }
   ],
   "source": [
    "print(simulate_lcq(results_df))"
   ]
  },
  {
   "cell_type": "code",
   "execution_count": 113,
   "metadata": {},
   "outputs": [],
   "source": [
    "def find_top_four_skateboarders(new_lcq_df):\n",
    "    return sort_my_df(new_lcq_df).head(4)"
   ]
  },
  {
   "cell_type": "code",
   "execution_count": 114,
   "metadata": {},
   "outputs": [
    {
     "name": "stdout",
     "output_type": "stream",
     "text": [
      "           id  win_count\n",
      "7    Horigome       1559\n",
      "0   Ribeiro G        751\n",
      "4      Shirai        634\n",
      "1      Huston        561\n",
      "2      Jordan        424\n",
      "6       Milou        356\n",
      "8       Hoban        271\n",
      "5      Joslin         76\n",
      "13    Decenzo         70\n",
      "16    Gustavo         57\n",
      "9     Hoefler         56\n",
      "10       Wair         50\n",
      "12      Suciu         42\n",
      "14    O’neill         27\n",
      "3         Foy         23\n",
      "17       Fynn         15\n",
      "11       Papa         12\n",
      "15      Eaton          8\n",
      "19  Ribeiro C          3\n",
      "21   Oliveira          3\n",
      "18  Rodriguez          1\n",
      "20       Mota          1\n"
     ]
    }
   ],
   "source": [
    "win_counts = {}\n",
    "\n",
    "for _ in range(5000):\n",
    "    top_four_df=find_top_four_skateboarders(simulate_lcq(results_df))\n",
    "    winner_id = top_four_df.iloc[0]['id']\n",
    "    win_counts[winner_id] = win_counts.get(winner_id, 0) + 1\n",
    "    \n",
    "df_win_counts = pd.DataFrame(list(win_counts.items()), columns=['id', 'win_count'])\n",
    "df_ranked = df_win_counts.sort_values(by='win_count', ascending=False)\n",
    "\n",
    "print(df_ranked)\n",
    "    "
   ]
  },
  {
   "cell_type": "markdown",
   "metadata": {},
   "source": [
    "Answer"
   ]
  },
  {
   "cell_type": "markdown",
   "metadata": {},
   "source": [
    "### 3. Bayesian Model\n",
    "\n",
    "As an alternative to the frequentist model developed in Task 2, we can consider a Bayesian model."
   ]
  },
  {
   "cell_type": "markdown",
   "metadata": {},
   "source": [
    "### (a) \n",
    "Propose a joint prior distribution for the parameters $[\\Theta_i, A_i, B_i]^T$ for $X_i$ where we assume $\\Theta_i \\perp A_i, B_i$ for all $i$. \n",
    "\n",
    "- Justify your choice.\n"
   ]
  },
  {
   "cell_type": "code",
   "execution_count": 115,
   "metadata": {},
   "outputs": [],
   "source": [
    "#Code"
   ]
  },
  {
   "cell_type": "markdown",
   "metadata": {},
   "source": [
    "Answer"
   ]
  },
  {
   "cell_type": "markdown",
   "metadata": {},
   "source": [
    "### (b) \n",
    "Generate 5000 random samples from the posterior distribution\n",
    "$$\n",
    "f_{\\theta_i, \\alpha_i, \\beta_i | \\boldsymbol{X}_i}(\\theta_i, \\alpha_i, \\beta_i | \\boldsymbol{x}_i) .\n",
    "$$\n",
    "Plot your resulting samples for the marginal posterior distributions:\n",
    "$$\n",
    "f_{\\theta_i | \\boldsymbol{X}_i}(\\theta_i | \\boldsymbol{x}_i) \\quad \\text{and} \\quad f_{\\alpha_i, \\beta_i | \\boldsymbol{X}_i}(\\alpha_i, \\beta_i | \\boldsymbol{x}_i) .\n",
    "$$\n",
    "Calculate the posterior sample mean and the posterior sample variance for each parameter $ \\theta_i, \\alpha_i $, and $ \\beta_i $ for all skateboarders."
   ]
  },
  {
   "cell_type": "code",
   "execution_count": 116,
   "metadata": {},
   "outputs": [],
   "source": [
    "#Code"
   ]
  },
  {
   "cell_type": "markdown",
   "metadata": {},
   "source": [
    "Answer"
   ]
  },
  {
   "cell_type": "markdown",
   "metadata": {},
   "source": [
    "### (c) \n",
    "- Propose a (joint) prior distribution for the parameters of your model $Y_i$ from task $2(c)$ and justify your choice. \n",
    "\n",
    "- You can assume that the model's parameters for skateboarder $i$ are independent of all other parameters including $\\theta_i$, $\\alpha_i$, and $\\beta_i$. \n",
    "\n",
    "- Generate 5000 samples from the posterior distribution (make sure to save these samples!) and create a scatter plot of the results. \n",
    "\n",
    "- What is the sample mean and sample variance for each of your parameters based on your outcomes?"
   ]
  },
  {
   "cell_type": "code",
   "execution_count": 117,
   "metadata": {},
   "outputs": [],
   "source": [
    "#Code"
   ]
  },
  {
   "cell_type": "markdown",
   "metadata": {},
   "source": [
    "Answer"
   ]
  },
  {
   "cell_type": "markdown",
   "metadata": {},
   "source": [
    "### (d) \n",
    "Use your Bayesian model for $[X_i, Y_i]^T$ to simulate 5000 LCQs by drawing samples from the appropriate posterior predictive distributions. \n",
    "\n",
    "- What is the mode of your outcomes $W_1, \\ldots, W_{5000}$? \n",
    "\n",
    "- How many of the real winners are predicted? \n",
    "\n",
    "- What is the estimated probability of the real winners based on your samples? \n",
    "\n",
    "- And by the mode?"
   ]
  },
  {
   "cell_type": "code",
   "execution_count": 118,
   "metadata": {},
   "outputs": [],
   "source": [
    "#Code"
   ]
  },
  {
   "cell_type": "markdown",
   "metadata": {},
   "source": [
    "Answer"
   ]
  },
  {
   "cell_type": "markdown",
   "metadata": {},
   "source": []
  },
  {
   "cell_type": "markdown",
   "metadata": {},
   "source": [
    "### (e) \n",
    "In the model in task $3(\\mathrm{d})$, we assumed that the parameters $\\Upsilon_i$ for $Y_i$ and the parameters $\\Theta_i = [\\Theta_i, A_i, B_i]^T$ for $X_i$ are independent given the data. \n",
    "\n",
    "- Why?"
   ]
  },
  {
   "cell_type": "markdown",
   "metadata": {},
   "source": [
    "Answer"
   ]
  },
  {
   "cell_type": "markdown",
   "metadata": {},
   "source": [
    "At the same time, we did not assume that $\\Theta_i \\perp A_i, B_i$ are independent given the data. \n",
    "\n",
    "1. Let $X_i^{(1)}, X_i^{(2)}, X_i^{(3)}, X_i^{(4)}$ denote skateboarder $i$'s four trick scores.\n",
    "2. Let $Y_i^{(1)}, Y_i^{(2)}$ denote skateboarder $i$'s two run scores.\n",
    "3. Let $O_i$ denote their total score. \n",
    "\n",
    "- Draw a directed acyclic graph with as few edges as possible so that the joint distribution of $O_i, X_i^{(1)}, X_i^{(2)}, X_i^{(3)}, X_i^{(4)}, Y_i^{(1)}, Y_i^{(2)}, \\Theta_i, A_i, B_i$ and $\\Upsilon$ is Markov with respect to it. "
   ]
  },
  {
   "cell_type": "markdown",
   "metadata": {},
   "source": [
    "Answer"
   ]
  },
  {
   "cell_type": "markdown",
   "metadata": {},
   "source": [
    "\n",
    "- Based on your graph, can you conclude that the marginal posterior distribution for $\\Theta_i, A_i$, and $B_i$ factorizes as:\n",
    "$$\n",
    "f_{\\theta_i, \\alpha_i, \\beta_i | \\boldsymbol{X}_i}(\\theta_i, \\alpha_i, \\beta_i | \\boldsymbol{x}_i) = f_{\\theta_i | \\boldsymbol{X}_i}(\\theta_i | \\boldsymbol{x}_i) f_{\\alpha_i, \\beta_i | \\boldsymbol{X}_i}(\\alpha_i, \\beta_i | \\boldsymbol{x}_i) ?\n",
    "$$"
   ]
  },
  {
   "cell_type": "markdown",
   "metadata": {},
   "source": [
    "Answer"
   ]
  },
  {
   "cell_type": "markdown",
   "metadata": {},
   "source": [
    "\n",
    "Consider your parameters $\\Upsilon_i$ for $Y_i$ and the parameters $\\Theta_i$ for $X_i$. \n",
    "\n",
    "- According to your graph, is the following assumption reasonable?\n",
    "\n",
    "$$\n",
    "\\Upsilon_i \\perp \\Theta_i | X_i^{(1)}, X_i^{(2)}, X_i^{(3)}, X_i^{(4)}, Y_i^{(1)}, Y_i^{(2)}\n",
    "$$"
   ]
  },
  {
   "cell_type": "markdown",
   "metadata": {},
   "source": [
    "Answer"
   ]
  },
  {
   "cell_type": "markdown",
   "metadata": {},
   "source": [
    "- Can we assume the independence relation $\\Upsilon_i \\perp \\Theta_i | O_i$ if only the data $o_i$ is given instead?"
   ]
  },
  {
   "cell_type": "code",
   "execution_count": 119,
   "metadata": {},
   "outputs": [],
   "source": [
    "#Code"
   ]
  },
  {
   "cell_type": "markdown",
   "metadata": {},
   "source": [
    "Answer"
   ]
  },
  {
   "cell_type": "markdown",
   "metadata": {},
   "source": [
    "# 4. A Bayesian model with a hierarchy\n",
    "To account for possible variations in skateboarders' performances between different competitions, we can build a model that uses a hierarchy. As we saw in the lectures, we can build a Bayesian hierarchy for $V_i \\sim \\operatorname{Ber}(\\theta_i)$ if we group outcomes $v_i$ according to the different competitions. For simplicity, we use our frequentist point estimates for the parameters $\\alpha_i, \\beta_i$ and the parameters for $Y_i$ from task 2."
   ]
  },
  {
   "cell_type": "markdown",
   "metadata": {},
   "source": [
    "### (a) \n",
    "Assume that $\\Theta_i \\mid A_i=\\alpha_i, B_i=\\beta_i \\sim \\operatorname{Beta}(\\alpha_i, \\beta_i)$ and choose a suitable simultaneous prior distribution for $\\left[\\Theta_i, A_i, B_i\\right]^T$. \n",
    "\n",
    "- Justify your choice."
   ]
  },
  {
   "cell_type": "markdown",
   "metadata": {},
   "source": [
    "Answer"
   ]
  },
  {
   "cell_type": "markdown",
   "metadata": {},
   "source": [
    "### (b) \n",
    "\n",
    "Generate 5000 random outcomes from the simultaneous posterior distribution\n",
    "$$\n",
    "f_{A_i, B_i \\mid \\boldsymbol{X}_i}(a_i, b_i \\mid \\boldsymbol{x}_i) .\n",
    "$$"
   ]
  },
  {
   "cell_type": "code",
   "execution_count": 120,
   "metadata": {},
   "outputs": [],
   "source": [
    "#Code"
   ]
  },
  {
   "cell_type": "markdown",
   "metadata": {},
   "source": [
    "Use your simulations to generate 5000 random outcomes from the marginal posterior distribution $\\Theta_i \\mid \\boldsymbol{X}_i=\\boldsymbol{x}_i$."
   ]
  },
  {
   "cell_type": "code",
   "execution_count": 121,
   "metadata": {},
   "outputs": [],
   "source": [
    "#Code"
   ]
  },
  {
   "cell_type": "markdown",
   "metadata": {},
   "source": [
    "Plot your outcomes for the following posterior distributions:\n",
    "$$\n",
    "f_{\\theta_i \\mid \\boldsymbol{X}_i}(\\theta_i \\mid \\boldsymbol{x}_i) \\quad \\text{and} \\quad f_{A_i, B_i \\mid \\boldsymbol{X}_i}(a_i, b_i \\mid \\boldsymbol{x}_i) ,\n",
    "$$"
   ]
  },
  {
   "cell_type": "code",
   "execution_count": 122,
   "metadata": {},
   "outputs": [],
   "source": [
    "#Code"
   ]
  },
  {
   "cell_type": "markdown",
   "metadata": {},
   "source": [
    "Provide estimates for the posterior expected value and posterior variance for each of the parameters. \n",
    "\n",
    "- How do these variances for $\\theta_i$ compare to the variances for $\\theta_i$ computed for the model in Task 3?"
   ]
  },
  {
   "cell_type": "markdown",
   "metadata": {},
   "source": [
    "Answer"
   ]
  },
  {
   "cell_type": "markdown",
   "metadata": {},
   "source": [
    "### (c) \n",
    "Using your $5000$ samples from part (b), simulate 5000 LCQ competition winners and calculate the mode of the results. \n",
    "\n",
    "- What are the respective estimated probabilities for the actual winners and your mode value?"
   ]
  },
  {
   "cell_type": "code",
   "execution_count": 123,
   "metadata": {},
   "outputs": [],
   "source": [
    "# Code"
   ]
  },
  {
   "cell_type": "markdown",
   "metadata": {},
   "source": [
    "Answer"
   ]
  },
  {
   "cell_type": "markdown",
   "metadata": {},
   "source": [
    "# 5. Discussion \n",
    "It is always important to reflect on our model assumptions when conducting statistical inference. Specifically, it is important to assess how the models can be improved."
   ]
  },
  {
   "cell_type": "markdown",
   "metadata": {},
   "source": [
    "### (a) \n",
    "\n",
    "- How do the results (the skateboarders in the typical values) from the different models compare? \n",
    "\n",
    "- Which skateboarders are correctly predicted and which are not? \n",
    "\n",
    "- Provide some possible explanations for the differences between the predictions of the different models. \n",
    "\n",
    "- Which model do you prefer and why?"
   ]
  },
  {
   "cell_type": "markdown",
   "metadata": {},
   "source": [
    "Answer"
   ]
  },
  {
   "cell_type": "markdown",
   "metadata": {},
   "source": [
    "### (b) \n",
    "\n",
    "- How do your estimates for $\\theta_i$ in Assignment 1 compare to your estimated expected values and variances for $\\theta_i$ in Assignments 3 and 4? \n",
    "\n",
    "- What is the expected score for a trick for each skateboarder given that the trick has been successfully landed? What is the expected run score? \n",
    "\n",
    "- Considering the skateboarders who are predicted to win according to the different models, do these statistics provide any insights into successful strategies for winning? \n",
    "\n",
    "- For example, does it work to focus on a good run score over good trick scores? \n",
    "\n",
    "- Are there instances where this strategy works? \n",
    "\n",
    "- Is it better to have higher trick scores with high variance or slightly worse trick scores with less variance? etc."
   ]
  },
  {
   "cell_type": "markdown",
   "metadata": {},
   "source": [
    "Answer"
   ]
  },
  {
   "cell_type": "markdown",
   "metadata": {},
   "source": [
    "### (c) \n",
    "\n",
    "- Estimate the expected value and standard deviation for each skateboarder's total score for the models in Assignments 3 and 4. \n",
    "\n",
    "- Do these statistics support your predictions? \n",
    "\n",
    "- According to these statistics, what needs to occur for the outcome to be the actual winners?"
   ]
  },
  {
   "cell_type": "markdown",
   "metadata": {},
   "source": [
    "Answer"
   ]
  },
  {
   "cell_type": "markdown",
   "metadata": {},
   "source": [
    "### (d) \n",
    "\n",
    "- In all the models, we assumed that the skateboarder's performances are independent. For example, we assumed that all $V_i$ are independent. \n",
    "\n",
    "- Does this seem like a reasonable assumption? Justify your answer."
   ]
  },
  {
   "cell_type": "markdown",
   "metadata": {},
   "source": [
    "Answer"
   ]
  },
  {
   "cell_type": "markdown",
   "metadata": {},
   "source": [
    "### (e) \n",
    "\n",
    "- In all the models, we ignored the order in which the skateboarders took turns. Does this seem like a reasonable thing to do? \n",
    "\n",
    "- Why or why not?"
   ]
  },
  {
   "cell_type": "markdown",
   "metadata": {},
   "source": [
    "Answer"
   ]
  }
 ],
 "metadata": {
  "kernelspec": {
   "display_name": "Python 3",
   "language": "python",
   "name": "python3"
  },
  "language_info": {
   "codemirror_mode": {
    "name": "ipython",
    "version": 3
   },
   "file_extension": ".py",
   "mimetype": "text/x-python",
   "name": "python",
   "nbconvert_exporter": "python",
   "pygments_lexer": "ipython3",
   "version": "3.10.11"
  },
  "orig_nbformat": 4
 },
 "nbformat": 4,
 "nbformat_minor": 2
}
