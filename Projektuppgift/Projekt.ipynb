{
 "cells": [
  {
   "cell_type": "code",
   "execution_count": 45,
   "metadata": {},
   "outputs": [],
   "source": [
    "# Importing necessary libraries for data manipulation and visualization\n",
    "import numpy as np\n",
    "import pandas as pd\n",
    "import matplotlib.pyplot as plt\n",
    "import csv"
   ]
  },
  {
   "cell_type": "code",
   "execution_count": 46,
   "metadata": {},
   "outputs": [],
   "source": [
    "# Get the data\n",
    "df = pd.read_csv(\"Datafil.csv\")"
   ]
  },
  {
   "cell_type": "markdown",
   "metadata": {},
   "source": [
    "# 1 Warm-up\n",
    "The following tasks are designed to familiarize you with the dataset and prepare the data for use when building your predictive models."
   ]
  },
  {
   "cell_type": "markdown",
   "metadata": {},
   "source": [
    "### (a) \n",
    "All scores in the dataframe are currently numbers between 0 and 10. Normalize these values in the dataframe so that they range between 0 and 1.\n"
   ]
  },
  {
   "cell_type": "code",
   "execution_count": 47,
   "metadata": {},
   "outputs": [],
   "source": [
    "def normalize_scores(df):\n",
    "    # Normalize scores (from 6th column onwards)\n",
    "    for col in df.columns[5:]:\n",
    "        df[col] = df[col].apply(lambda x: x/10 if x == x else x)  # handle NaN values\n",
    "    print(df)"
   ]
  },
  {
   "cell_type": "code",
   "execution_count": 48,
   "metadata": {},
   "outputs": [
    {
     "name": "stdout",
     "output_type": "stream",
     "text": [
      "           id      location  month  year        comp  heat  run 1  run 2  \\\n",
      "0      Berger  jacksonville      7  2022  prelim men   0.1   0.50   0.11   \n",
      "1        Papa  jacksonville      7  2022  prelim men   0.1   0.37   0.70   \n",
      "2     Pudwill  jacksonville      7  2022  prelim men   0.1   0.20   0.13   \n",
      "3      Shirai  jacksonville      7  2022  prelim men   0.1   0.79   0.70   \n",
      "4        Mota  jacksonville      7  2022  prelim men   0.1   0.38   0.40   \n",
      "..        ...           ...    ...   ...         ...   ...    ...    ...   \n",
      "92      Hoban     las vegas     10  2022   final men   0.1   0.62   0.88   \n",
      "93    Hoefler     las vegas     10  2022   final men   0.1   0.84   0.57   \n",
      "94      Eaton     las vegas     10  2022   final men   0.1   0.69   0.72   \n",
      "95     Joslin     las vegas     10  2022   final men   0.1   0.68   0.83   \n",
      "96  Ribeiro G     las vegas     10  2022   final men   0.1   0.85   0.30   \n",
      "\n",
      "    trick 1  trick 2  trick 3  trick 4  trick 5  trick 6  \n",
      "0      0.70     0.00     0.76     0.00      NaN      NaN  \n",
      "1      0.72     0.00     0.84     0.82      NaN      NaN  \n",
      "2      0.00     0.00     0.00     0.00      NaN      NaN  \n",
      "3      0.75     0.00     0.92     0.00      NaN      NaN  \n",
      "4      0.78     0.00     0.00     0.00      NaN      NaN  \n",
      "..      ...      ...      ...      ...      ...      ...  \n",
      "92     0.86     0.00     0.88     0.00     0.00     0.00  \n",
      "93     0.78     0.00     0.87     0.00     0.00     0.00  \n",
      "94     0.00     0.84     0.75     0.00      NaN      NaN  \n",
      "95     0.79     0.83     0.00     0.00     0.89     0.94  \n",
      "96     0.00     0.92     0.88     0.92     0.00     0.17  \n",
      "\n",
      "[97 rows x 14 columns]\n"
     ]
    }
   ],
   "source": [
    "normalize_scores(df)"
   ]
  },
  {
   "cell_type": "markdown",
   "metadata": {},
   "source": [
    "### (b) \n",
    "Create a histogram for all trick scores for tricks 1-4. \n",
    "- What do you observe? \n",
    "- Is there a particular value that appears more often than the others? \n",
    "- If so, how does this value compare to the others?"
   ]
  },
  {
   "cell_type": "code",
   "execution_count": 49,
   "metadata": {},
   "outputs": [],
   "source": [
    "# b) here i create a histogram fr normalized data\n",
    "def plot_histograms(datafile):\n",
    "    # List of tricks\n",
    "    tricks = [\"trick 1\", \"trick 2\", \"trick 3\", \"trick 4\"]\n",
    "\n",
    "    # Plot histograms for each trick\n",
    "    for idx, trick in enumerate(tricks, 1):\n",
    "        plt.subplot(2, 2, idx)  # 2x2 grid of histograms\n",
    "        plt.hist(df[trick].dropna(), bins=20, alpha=0.7, color='blue')  # dropna() ensures NaN values are ignored\n",
    "        plt.title(f\"Histogram of {trick}\")\n",
    "        plt.xlabel(\"Score\")\n",
    "        plt.ylabel(\"Frequency\")\n",
    "\n",
    "    # Adjust layout to prevent overlaps and show the plot\n",
    "    plt.tight_layout()\n",
    "    plt.show()"
   ]
  },
  {
   "cell_type": "code",
   "execution_count": 50,
   "metadata": {},
   "outputs": [
    {
     "data": {
      "image/png": "[encoded data removed]",
      "text/plain": [
       "<Figure size 640x480 with 4 Axes>"
      ]
     },
     "metadata": {},
     "output_type": "display_data"
    }
   ],
   "source": [
    "plot_histograms(df)"
   ]
  },
  {
   "cell_type": "markdown",
   "metadata": {},
   "source": [
    "*From our observations, the most common score for each trick is zero, by a significant margin. The majority of other scores fall within the 0.6 to 0.9 range, with a noticeable lack of scores between 0 and 0.6. This pattern suggests that contestants tend to attempt more challenging tricks, which typically result in either failure (yielding a score of zero) or a relatively high score. This behavior indicates a tendency to bypass tricks of easy to medium difficulty.*"
   ]
  },
  {
   "cell_type": "markdown",
   "metadata": {},
   "source": [
    "### (c)\n",
    "For each trick (1-4), create a new column named 'make i' for \\(i=1,2,3,4\\). The value of 'make i' in a given row should be 1 if the skateboarder successfully landed trick \\(i\\) and 0 otherwise."
   ]
  },
  {
   "cell_type": "code",
   "execution_count": 51,
   "metadata": {},
   "outputs": [],
   "source": [
    "def add_make_columns(df):\n",
    "    # Loop through each trick column\n",
    "    for i in range(1, 5):\n",
    "        trick_column = f\"trick {i}\"\n",
    "        \n",
    "        # Assuming a trick is executed if its score > 0\n",
    "        df[f\"make {i}\"] = df[trick_column].apply(lambda x: 1 if x > 0 else 0)\n",
    "    \n",
    "    print(df)"
   ]
  },
  {
   "cell_type": "code",
   "execution_count": 52,
   "metadata": {},
   "outputs": [
    {
     "name": "stdout",
     "output_type": "stream",
     "text": [
      "           id      location  month  year        comp  heat  run 1  run 2  \\\n",
      "0      Berger  jacksonville      7  2022  prelim men   0.1   0.50   0.11   \n",
      "1        Papa  jacksonville      7  2022  prelim men   0.1   0.37   0.70   \n",
      "2     Pudwill  jacksonville      7  2022  prelim men   0.1   0.20   0.13   \n",
      "3      Shirai  jacksonville      7  2022  prelim men   0.1   0.79   0.70   \n",
      "4        Mota  jacksonville      7  2022  prelim men   0.1   0.38   0.40   \n",
      "..        ...           ...    ...   ...         ...   ...    ...    ...   \n",
      "92      Hoban     las vegas     10  2022   final men   0.1   0.62   0.88   \n",
      "93    Hoefler     las vegas     10  2022   final men   0.1   0.84   0.57   \n",
      "94      Eaton     las vegas     10  2022   final men   0.1   0.69   0.72   \n",
      "95     Joslin     las vegas     10  2022   final men   0.1   0.68   0.83   \n",
      "96  Ribeiro G     las vegas     10  2022   final men   0.1   0.85   0.30   \n",
      "\n",
      "    trick 1  trick 2  trick 3  trick 4  trick 5  trick 6  make 1  make 2  \\\n",
      "0      0.70     0.00     0.76     0.00      NaN      NaN       1       0   \n",
      "1      0.72     0.00     0.84     0.82      NaN      NaN       1       0   \n",
      "2      0.00     0.00     0.00     0.00      NaN      NaN       0       0   \n",
      "3      0.75     0.00     0.92     0.00      NaN      NaN       1       0   \n",
      "4      0.78     0.00     0.00     0.00      NaN      NaN       1       0   \n",
      "..      ...      ...      ...      ...      ...      ...     ...     ...   \n",
      "92     0.86     0.00     0.88     0.00     0.00     0.00       1       0   \n",
      "93     0.78     0.00     0.87     0.00     0.00     0.00       1       0   \n",
      "94     0.00     0.84     0.75     0.00      NaN      NaN       0       1   \n",
      "95     0.79     0.83     0.00     0.00     0.89     0.94       1       1   \n",
      "96     0.00     0.92     0.88     0.92     0.00     0.17       0       1   \n",
      "\n",
      "    make 3  make 4  \n",
      "0        1       0  \n",
      "1        1       1  \n",
      "2        0       0  \n",
      "3        1       0  \n",
      "4        0       0  \n",
      "..     ...     ...  \n",
      "92       1       0  \n",
      "93       1       0  \n",
      "94       1       0  \n",
      "95       0       0  \n",
      "96       1       1  \n",
      "\n",
      "[97 rows x 18 columns]\n"
     ]
    }
   ],
   "source": [
    "add_make_columns(df)"
   ]
  },
  {
   "cell_type": "markdown",
   "metadata": {},
   "source": [
    "### (d)\n",
    "For each skateboarder, estimate the probability that a trick receives a score greater than 0.6, given that the skateboarder successfully lands the trick. What is the probability that the skateboarder fails to land a particular trick? What observations can you make? Relate your findings to your observations in part (b)."
   ]
  },
  {
   "cell_type": "code",
   "execution_count": 53,
   "metadata": {},
   "outputs": [],
   "source": [
    "# d) Given that they make a trick estimate the probability of them getting a score that's higher than 0.6\n",
    "def estimate_probabilities(df):\n",
    "    results = []\n",
    "    for index, row in df.iterrows():\n",
    "        tricks = [f\"trick {i}\" for i in range(1, 5)]\n",
    "        \n",
    "        successful_tricks = sum(1 for trick in tricks if row[trick] > 0)\n",
    "        more_than = sum(1 for trick in tricks if row[trick] >= 0.6)\n",
    "        \n",
    "        prob_success = more_than / successful_tricks if successful_tricks > 0 else 0\n",
    "        prob_failure = 1 - prob_success\n",
    "        \n",
    "        results.append((index, prob_success, prob_failure))\n",
    "    \n",
    "    for index, success, failure in results:\n",
    "        print(f\"Skateboardåkare {index+1}: P(success) = {success:.2f}, P(failure) = {failure:.2f}\")\n",
    "    \n",
    "    print(df)"
   ]
  },
  {
   "cell_type": "code",
   "execution_count": 54,
   "metadata": {},
   "outputs": [
    {
     "name": "stdout",
     "output_type": "stream",
     "text": [
      "Skateboardåkare 1: P(success) = 1.00, P(failure) = 0.00\n",
      "Skateboardåkare 2: P(success) = 1.00, P(failure) = 0.00\n",
      "Skateboardåkare 3: P(success) = 0.00, P(failure) = 1.00\n",
      "Skateboardåkare 4: P(success) = 1.00, P(failure) = 0.00\n",
      "Skateboardåkare 5: P(success) = 1.00, P(failure) = 0.00\n",
      "Skateboardåkare 6: P(success) = 1.00, P(failure) = 0.00\n",
      "Skateboardåkare 7: P(success) = 1.00, P(failure) = 0.00\n",
      "Skateboardåkare 8: P(success) = 1.00, P(failure) = 0.00\n",
      "Skateboardåkare 9: P(success) = 1.00, P(failure) = 0.00\n",
      "Skateboardåkare 10: P(success) = 0.00, P(failure) = 1.00\n",
      "Skateboardåkare 11: P(success) = 1.00, P(failure) = 0.00\n",
      "Skateboardåkare 12: P(success) = 1.00, P(failure) = 0.00\n",
      "Skateboardåkare 13: P(success) = 1.00, P(failure) = 0.00\n",
      "Skateboardåkare 14: P(success) = 1.00, P(failure) = 0.00\n",
      "Skateboardåkare 15: P(success) = 1.00, P(failure) = 0.00\n",
      "Skateboardåkare 16: P(success) = 1.00, P(failure) = 0.00\n",
      "Skateboardåkare 17: P(success) = 1.00, P(failure) = 0.00\n",
      "Skateboardåkare 18: P(success) = 1.00, P(failure) = 0.00\n",
      "Skateboardåkare 19: P(success) = 0.00, P(failure) = 1.00\n",
      "Skateboardåkare 20: P(success) = 1.00, P(failure) = 0.00\n",
      "Skateboardåkare 21: P(success) = 1.00, P(failure) = 0.00\n",
      "Skateboardåkare 22: P(success) = 1.00, P(failure) = 0.00\n",
      "Skateboardåkare 23: P(success) = 1.00, P(failure) = 0.00\n",
      "Skateboardåkare 24: P(success) = 1.00, P(failure) = 0.00\n",
      "Skateboardåkare 25: P(success) = 1.00, P(failure) = 0.00\n",
      "Skateboardåkare 26: P(success) = 1.00, P(failure) = 0.00\n",
      "Skateboardåkare 27: P(success) = 1.00, P(failure) = 0.00\n",
      "Skateboardåkare 28: P(success) = 1.00, P(failure) = 0.00\n",
      "Skateboardåkare 29: P(success) = 1.00, P(failure) = 0.00\n",
      "Skateboardåkare 30: P(success) = 0.00, P(failure) = 1.00\n",
      "Skateboardåkare 31: P(success) = 1.00, P(failure) = 0.00\n",
      "Skateboardåkare 32: P(success) = 1.00, P(failure) = 0.00\n",
      "Skateboardåkare 33: P(success) = 1.00, P(failure) = 0.00\n",
      "Skateboardåkare 34: P(success) = 0.50, P(failure) = 0.50\n",
      "Skateboardåkare 35: P(success) = 1.00, P(failure) = 0.00\n",
      "Skateboardåkare 36: P(success) = 1.00, P(failure) = 0.00\n",
      "Skateboardåkare 37: P(success) = 1.00, P(failure) = 0.00\n",
      "Skateboardåkare 38: P(success) = 1.00, P(failure) = 0.00\n",
      "Skateboardåkare 39: P(success) = 1.00, P(failure) = 0.00\n",
      "Skateboardåkare 40: P(success) = 0.00, P(failure) = 1.00\n",
      "Skateboardåkare 41: P(success) = 0.00, P(failure) = 1.00\n",
      "Skateboardåkare 42: P(success) = 1.00, P(failure) = 0.00\n",
      "Skateboardåkare 43: P(success) = 1.00, P(failure) = 0.00\n",
      "Skateboardåkare 44: P(success) = 1.00, P(failure) = 0.00\n",
      "Skateboardåkare 45: P(success) = 1.00, P(failure) = 0.00\n",
      "Skateboardåkare 46: P(success) = 1.00, P(failure) = 0.00\n",
      "Skateboardåkare 47: P(success) = 1.00, P(failure) = 0.00\n",
      "Skateboardåkare 48: P(success) = 1.00, P(failure) = 0.00\n",
      "Skateboardåkare 49: P(success) = 1.00, P(failure) = 0.00\n",
      "Skateboardåkare 50: P(success) = 1.00, P(failure) = 0.00\n",
      "Skateboardåkare 51: P(success) = 1.00, P(failure) = 0.00\n",
      "Skateboardåkare 52: P(success) = 1.00, P(failure) = 0.00\n",
      "Skateboardåkare 53: P(success) = 0.00, P(failure) = 1.00\n",
      "Skateboardåkare 54: P(success) = 1.00, P(failure) = 0.00\n",
      "Skateboardåkare 55: P(success) = 1.00, P(failure) = 0.00\n",
      "Skateboardåkare 56: P(success) = 1.00, P(failure) = 0.00\n",
      "Skateboardåkare 57: P(success) = 1.00, P(failure) = 0.00\n",
      "Skateboardåkare 58: P(success) = 1.00, P(failure) = 0.00\n",
      "Skateboardåkare 59: P(success) = 1.00, P(failure) = 0.00\n",
      "Skateboardåkare 60: P(success) = 1.00, P(failure) = 0.00\n",
      "Skateboardåkare 61: P(success) = 1.00, P(failure) = 0.00\n",
      "Skateboardåkare 62: P(success) = 1.00, P(failure) = 0.00\n",
      "Skateboardåkare 63: P(success) = 1.00, P(failure) = 0.00\n",
      "Skateboardåkare 64: P(success) = 1.00, P(failure) = 0.00\n",
      "Skateboardåkare 65: P(success) = 0.00, P(failure) = 1.00\n",
      "Skateboardåkare 66: P(success) = 1.00, P(failure) = 0.00\n",
      "Skateboardåkare 67: P(success) = 0.50, P(failure) = 0.50\n",
      "Skateboardåkare 68: P(success) = 1.00, P(failure) = 0.00\n",
      "Skateboardåkare 69: P(success) = 1.00, P(failure) = 0.00\n",
      "Skateboardåkare 70: P(success) = 1.00, P(failure) = 0.00\n",
      "Skateboardåkare 71: P(success) = 1.00, P(failure) = 0.00\n",
      "Skateboardåkare 72: P(success) = 1.00, P(failure) = 0.00\n",
      "Skateboardåkare 73: P(success) = 1.00, P(failure) = 0.00\n",
      "Skateboardåkare 74: P(success) = 1.00, P(failure) = 0.00\n",
      "Skateboardåkare 75: P(success) = 1.00, P(failure) = 0.00\n",
      "Skateboardåkare 76: P(success) = 0.00, P(failure) = 1.00\n",
      "Skateboardåkare 77: P(success) = 1.00, P(failure) = 0.00\n",
      "Skateboardåkare 78: P(success) = 1.00, P(failure) = 0.00\n",
      "Skateboardåkare 79: P(success) = 1.00, P(failure) = 0.00\n",
      "Skateboardåkare 80: P(success) = 1.00, P(failure) = 0.00\n",
      "Skateboardåkare 81: P(success) = 0.00, P(failure) = 1.00\n",
      "Skateboardåkare 82: P(success) = 0.00, P(failure) = 1.00\n",
      "Skateboardåkare 83: P(success) = 1.00, P(failure) = 0.00\n",
      "Skateboardåkare 84: P(success) = 1.00, P(failure) = 0.00\n",
      "Skateboardåkare 85: P(success) = 0.00, P(failure) = 1.00\n",
      "Skateboardåkare 86: P(success) = 1.00, P(failure) = 0.00\n",
      "Skateboardåkare 87: P(success) = 1.00, P(failure) = 0.00\n",
      "Skateboardåkare 88: P(success) = 1.00, P(failure) = 0.00\n",
      "Skateboardåkare 89: P(success) = 1.00, P(failure) = 0.00\n",
      "Skateboardåkare 90: P(success) = 1.00, P(failure) = 0.00\n",
      "Skateboardåkare 91: P(success) = 1.00, P(failure) = 0.00\n",
      "Skateboardåkare 92: P(success) = 1.00, P(failure) = 0.00\n",
      "Skateboardåkare 93: P(success) = 1.00, P(failure) = 0.00\n",
      "Skateboardåkare 94: P(success) = 1.00, P(failure) = 0.00\n",
      "Skateboardåkare 95: P(success) = 1.00, P(failure) = 0.00\n",
      "Skateboardåkare 96: P(success) = 1.00, P(failure) = 0.00\n",
      "Skateboardåkare 97: P(success) = 1.00, P(failure) = 0.00\n",
      "           id      location  month  year        comp  heat  run 1  run 2  \\\n",
      "0      Berger  jacksonville      7  2022  prelim men   0.1   0.50   0.11   \n",
      "1        Papa  jacksonville      7  2022  prelim men   0.1   0.37   0.70   \n",
      "2     Pudwill  jacksonville      7  2022  prelim men   0.1   0.20   0.13   \n",
      "3      Shirai  jacksonville      7  2022  prelim men   0.1   0.79   0.70   \n",
      "4        Mota  jacksonville      7  2022  prelim men   0.1   0.38   0.40   \n",
      "..        ...           ...    ...   ...         ...   ...    ...    ...   \n",
      "92      Hoban     las vegas     10  2022   final men   0.1   0.62   0.88   \n",
      "93    Hoefler     las vegas     10  2022   final men   0.1   0.84   0.57   \n",
      "94      Eaton     las vegas     10  2022   final men   0.1   0.69   0.72   \n",
      "95     Joslin     las vegas     10  2022   final men   0.1   0.68   0.83   \n",
      "96  Ribeiro G     las vegas     10  2022   final men   0.1   0.85   0.30   \n",
      "\n",
      "    trick 1  trick 2  trick 3  trick 4  trick 5  trick 6  make 1  make 2  \\\n",
      "0      0.70     0.00     0.76     0.00      NaN      NaN       1       0   \n",
      "1      0.72     0.00     0.84     0.82      NaN      NaN       1       0   \n",
      "2      0.00     0.00     0.00     0.00      NaN      NaN       0       0   \n",
      "3      0.75     0.00     0.92     0.00      NaN      NaN       1       0   \n",
      "4      0.78     0.00     0.00     0.00      NaN      NaN       1       0   \n",
      "..      ...      ...      ...      ...      ...      ...     ...     ...   \n",
      "92     0.86     0.00     0.88     0.00     0.00     0.00       1       0   \n",
      "93     0.78     0.00     0.87     0.00     0.00     0.00       1       0   \n",
      "94     0.00     0.84     0.75     0.00      NaN      NaN       0       1   \n",
      "95     0.79     0.83     0.00     0.00     0.89     0.94       1       1   \n",
      "96     0.00     0.92     0.88     0.92     0.00     0.17       0       1   \n",
      "\n",
      "    make 3  make 4  \n",
      "0        1       0  \n",
      "1        1       1  \n",
      "2        0       0  \n",
      "3        1       0  \n",
      "4        0       0  \n",
      "..     ...     ...  \n",
      "92       1       0  \n",
      "93       1       0  \n",
      "94       1       0  \n",
      "95       0       0  \n",
      "96       1       1  \n",
      "\n",
      "[97 rows x 18 columns]\n"
     ]
    }
   ],
   "source": [
    "estimate_probabilities(df)"
   ]
  }
 ],
 "metadata": {
  "kernelspec": {
   "display_name": "Python 3",
   "language": "python",
   "name": "python3"
  },
  "language_info": {
   "codemirror_mode": {
    "name": "ipython",
    "version": 3
   },
   "file_extension": ".py",
   "mimetype": "text/x-python",
   "name": "python",
   "nbconvert_exporter": "python",
   "pygments_lexer": "ipython3",
   "version": "3.10.11"
  },
  "orig_nbformat": 4
 },
 "nbformat": 4,
 "nbformat_minor": 2
}
