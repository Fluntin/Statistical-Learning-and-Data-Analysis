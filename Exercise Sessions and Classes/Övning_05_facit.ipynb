{
 "cells": [
  {
   "cell_type": "code",
   "execution_count": 5,
   "metadata": {},
   "outputs": [],
   "source": [
    "from scipy import stats\n",
    "from math import factorial\n",
    "import numpy as np\n",
    "# import matplotlib.pyplot as plt"
   ]
  },
  {
   "cell_type": "markdown",
   "metadata": {},
   "source": [
    "Uppgift 1)"
   ]
  },
  {
   "cell_type": "code",
   "execution_count": 3,
   "metadata": {},
   "outputs": [
    {
     "name": "stdout",
     "output_type": "stream",
     "text": [
      "114.4\n"
     ]
    }
   ],
   "source": [
    "# Räkna ML-skattningen (stickprovsmedelvärde) av data:\n",
    "data = [110, 117,  93, 123, 102, 129, 107, 126, 119, 118]\n",
    "λmle = np.mean(data)\n",
    "print(λmle)"
   ]
  },
  {
   "cell_type": "code",
   "execution_count": 6,
   "metadata": {},
   "outputs": [
    {
     "name": "stdout",
     "output_type": "stream",
     "text": [
      "0.14986610162634195\n"
     ]
    }
   ],
   "source": [
    "# Räkna sannolikheten att restaurangen fick mer än 125 kundar i en dag:\n",
    "print(\n",
    "1-sum([np.exp(-114.4)*(114.4**i)/factorial(i) for i in range(126)])\n",
    ")"
   ]
  },
  {
   "cell_type": "markdown",
   "metadata": {},
   "source": [
    "Uppgift 3)"
   ]
  },
  {
   "cell_type": "code",
   "execution_count": 11,
   "metadata": {},
   "outputs": [
    {
     "name": "stdout",
     "output_type": "stream",
     "text": [
      "12.594868873445817\n",
      "25.0\n"
     ]
    }
   ],
   "source": [
    "# Vi använder vår formel för ML-skattningen och räkna:\n",
    "data = [22.0, 23.9, 20.9, 23.8, 25.0, 24.0, 21.7, 23.8, 22.8, 23.1, 23.1, 23.5, 23.0, 23.0]\n",
    "βmle = max(data)\n",
    "αmle = len(data)/(sum([np.log(βmle) - np.log(data[i]) for i in range(len(data))]))\n",
    "print(αmle)\n",
    "print(βmle)"
   ]
  },
  {
   "cell_type": "markdown",
   "metadata": {},
   "source": [
    "Uppgift 4)"
   ]
  },
  {
   "cell_type": "code",
   "execution_count": 12,
   "metadata": {},
   "outputs": [
    {
     "name": "stdout",
     "output_type": "stream",
     "text": [
      "2.9755434782608696\n",
      "2502.4\n"
     ]
    }
   ],
   "source": [
    "# Vi använder vår formel för ML-skattningen och räkna:\n",
    "data = [[2519, 7466], [2511, 7377], [2510, 7402], [2474, 7556], [2498, 7429]]\n",
    "βmle = sum([data[i][1] for i in range(5)])/sum([data[i][0] for i in range(5)])\n",
    "λmle = np.mean([data[i][0] for i in range(5)])\n",
    "print(βmle)\n",
    "print(λmle)"
   ]
  },
  {
   "cell_type": "markdown",
   "metadata": {},
   "source": [
    "Uppgift 5)"
   ]
  },
  {
   "cell_type": "code",
   "execution_count": 16,
   "metadata": {},
   "outputs": [
    {
     "name": "stdout",
     "output_type": "stream",
     "text": [
      "0.8877052818464269\n",
      "0.4526707574690675\n"
     ]
    }
   ],
   "source": [
    "data = [(0.92, 0.68), (0.86, 1.69), (0.07, 5.92), (0.44, 0.82), (0.75, 1.26)]\n",
    "data = [list(d) for d in data]\n",
    "x_samples = [data[i][0]+(1/4)*data[i][1] for i in range(5)]\n",
    "y_samples = [data[i][1]+(2/9)*data[i][0] for i in range(5)]\n",
    "λmle = 5/sum(x_samples)\n",
    "νmle = 5/sum(y_samples)\n",
    "print(λmle)\n",
    "print(νmle)"
   ]
  }
 ],
 "metadata": {
  "kernelspec": {
   "display_name": "Python 3",
   "language": "python",
   "name": "python3"
  },
  "language_info": {
   "codemirror_mode": {
    "name": "ipython",
    "version": 3
   },
   "file_extension": ".py",
   "mimetype": "text/x-python",
   "name": "python",
   "nbconvert_exporter": "python",
   "pygments_lexer": "ipython3",
   "version": "3.9.4"
  }
 },
 "nbformat": 4,
 "nbformat_minor": 2
}
