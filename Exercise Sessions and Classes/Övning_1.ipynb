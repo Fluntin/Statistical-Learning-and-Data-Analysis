{
 "cells": [
  {
   "cell_type": "code",
   "execution_count": 1,
   "id": "541d9a1c",
   "metadata": {},
   "outputs": [],
   "source": [
    "from scipy import stats\n",
    "import numpy as np\n",
    "import matplotlib.pyplot as plt\n",
    "import scipy.special"
   ]
  },
  {
   "cell_type": "markdown",
   "id": "6855edd5",
   "metadata": {},
   "source": [
    "### Uppgift 2"
   ]
  },
  {
   "cell_type": "markdown",
   "id": "a84c8aa8",
   "metadata": {},
   "source": [
    "#### (b)"
   ]
  },
  {
   "cell_type": "code",
   "execution_count": 20,
   "id": "c386539a",
   "metadata": {},
   "outputs": [],
   "source": [
    "# since U~U(0,1) if and only 1-U~U(0,1) we replace 1-u with u:\n",
    "def inv_F(u):\n",
    "    \n",
    "    return 2.5 / u**(1/4)\n",
    "\n",
    "# pdf for pareto(2.5, 4)\n",
    "def pareto_pdf(x):\n",
    "    \n",
    "    if x < 2.5:\n",
    "        val = 0\n",
    "    else:\n",
    "        val = 4 * 2.5**4 * x**(-(4 + 1))\n",
    "    \n",
    "    return val\n",
    "\n",
    "pareto = np.vectorize(pareto_pdf)"
   ]
  },
  {
   "cell_type": "code",
   "execution_count": 23,
   "id": "59fe8827",
   "metadata": {},
   "outputs": [
    {
     "data": {
      "image/png": "[encoded data removed]",
      "text/plain": [
       "<Figure size 432x288 with 1 Axes>"
      ]
     },
     "metadata": {
      "needs_background": "light"
     },
     "output_type": "display_data"
    }
   ],
   "source": [
    "# generate 100 draws from a U(0,1) distribution\n",
    "U_samps = stats.uniform.rvs(size = 100)\n",
    "\n",
    "# apply the inverse CDF to each sample to get a sample of size 100 from Pareto(2.5, 4)\n",
    "P_samps = np.array([inv_F(u) for u in U_samps])\n",
    "\n",
    "# Plot histogram with pareto pdf:\n",
    "fig, ax = plt.subplots(1, 1)\n",
    "x = np.linspace(2.5, 6, 1000)\n",
    "ax.plot(x, pareto(x), 'k-', lw=2, label='täthetfunktion för $X\\sim{Pareto}(2.5, 4)$')\n",
    "# ax.plot(x, pdf_est(x), lw=2, label='pdf_est')\n",
    "\n",
    "ax.hist(P_samps, density=True, histtype='stepfilled', alpha=0.9)\n",
    "ax.legend(loc='best', frameon=False)\n",
    "plt.show()"
   ]
  },
  {
   "cell_type": "code",
   "execution_count": 27,
   "id": "871c3342",
   "metadata": {},
   "outputs": [
    {
     "name": "stdout",
     "output_type": "stream",
     "text": [
      "samp_mean=3.1730246809743567\n"
     ]
    }
   ],
   "source": [
    "# Compute the sample mean\n",
    "samp_mean = np.mean(P_samps)\n",
    "\n",
    "print(f\"{samp_mean=}\")"
   ]
  },
  {
   "cell_type": "markdown",
   "id": "f78cf123",
   "metadata": {},
   "source": [
    "#### (c)"
   ]
  },
  {
   "cell_type": "code",
   "execution_count": 35,
   "id": "6ea50017",
   "metadata": {},
   "outputs": [
    {
     "data": {
      "image/png": "[encoded data removed]",
      "text/plain": [
       "<Figure size 432x288 with 1 Axes>"
      ]
     },
     "metadata": {
      "needs_background": "light"
     },
     "output_type": "display_data"
    }
   ],
   "source": [
    "# We do the same for 1000 draws:\n",
    "U_samps = stats.uniform.rvs(size = 1000)\n",
    "\n",
    "# apply the inverse CDF to each sample to get a sample of size 100 from Pareto(2.5, 4)\n",
    "P_samps = np.array([inv_F(u) for u in U_samps])\n",
    "\n",
    "# Plot histogram with pareto pdf:\n",
    "fig, ax = plt.subplots(1, 1)\n",
    "x = np.linspace(2.5, 15, 1000)\n",
    "ax.plot(x, pareto(x), 'k-', lw=2, label='täthetfunktion för $X\\sim{Pareto}(2.5, 4)$')\n",
    "\n",
    "# increase number of bins to get better looking plot\n",
    "ax.hist(P_samps, density=True, histtype='stepfilled', alpha=0.9, bins = 50)\n",
    "ax.legend(loc='best', frameon=False)\n",
    "plt.show()"
   ]
  },
  {
   "cell_type": "code",
   "execution_count": 36,
   "id": "406a9abd",
   "metadata": {},
   "outputs": [
    {
     "name": "stdout",
     "output_type": "stream",
     "text": [
      "samp_mean=3.3947647316110134\n"
     ]
    }
   ],
   "source": [
    "# Compute the sample mean\n",
    "samp_mean = np.mean(P_samps)\n",
    "\n",
    "print(f\"{samp_mean=}\")"
   ]
  },
  {
   "cell_type": "markdown",
   "id": "db8c83fb",
   "metadata": {},
   "source": [
    "### Uppgift 4"
   ]
  },
  {
   "cell_type": "markdown",
   "id": "a82a36f6",
   "metadata": {},
   "source": [
    "#### (a)"
   ]
  },
  {
   "cell_type": "code",
   "execution_count": 38,
   "id": "36048141",
   "metadata": {},
   "outputs": [],
   "source": [
    "# CDF of Neg-Bin(2, 1/3):\n",
    "def negBin_F(r, p, x):\n",
    "    \n",
    "    return sum([scipy.special.binom(r + j - 1, j)*p**r*(1-p)**j for j in range(x+1)])"
   ]
  },
  {
   "cell_type": "code",
   "execution_count": 39,
   "id": "8148a6f4",
   "metadata": {},
   "outputs": [
    {
     "data": {
      "text/plain": [
       "0.1111111111111111"
      ]
     },
     "execution_count": 39,
     "metadata": {},
     "output_type": "execute_result"
    }
   ],
   "source": [
    "negBin_F(2, 1/3, 0)"
   ]
  },
  {
   "cell_type": "code",
   "execution_count": 50,
   "id": "3fce39ad",
   "metadata": {},
   "outputs": [],
   "source": [
    "def neg_bin_samp(r, p, n):\n",
    "     \n",
    "    U_samps = stats.uniform.rvs(size = n)\n",
    "    X_samps = []\n",
    "    \n",
    "    for u in U_samps:\n",
    "        t = 0 \n",
    "        x = 0\n",
    "        \n",
    "        while t == 0:\n",
    "            if u < negBin_F(r, p, x):\n",
    "                t = 1\n",
    "            else:\n",
    "                x += 1\n",
    "        \n",
    "        X_samps += [x]\n",
    "        \n",
    "    return np.array(X_samps)"
   ]
  },
  {
   "cell_type": "code",
   "execution_count": 64,
   "id": "0c053353",
   "metadata": {},
   "outputs": [],
   "source": [
    "# We compute the sample mean of $1000$ samples of size ten from Neg-Bin(2, 1/3):\n",
    "mean_samps = [np.mean(neg_bin_samp(2, 1/7, 10)) for i in range(1000)]"
   ]
  },
  {
   "cell_type": "code",
   "execution_count": 65,
   "id": "e1c7256b",
   "metadata": {},
   "outputs": [
    {
     "name": "stdout",
     "output_type": "stream",
     "text": [
      "est_prob=0.003\n"
     ]
    }
   ],
   "source": [
    "# we compute the proportion of samples in mean_samps that are less than or equal to the sample mean of the given data\n",
    "sample_mean = np.mean([2, 3, 7, 8, 2, 4, 7, 5, 5, 7])\n",
    "counts = 0\n",
    "\n",
    "for s in mean_samps:\n",
    "    if s <= sample_mean:\n",
    "        counts += 1\n",
    "\n",
    "est_prob = counts / 1000\n",
    "print(f\"{est_prob=}\")"
   ]
  },
  {
   "cell_type": "code",
   "execution_count": 66,
   "id": "07eb9bf4",
   "metadata": {},
   "outputs": [
    {
     "data": {
      "image/png": "[encoded data removed]",
      "text/plain": [
       "<Figure size 432x288 with 1 Axes>"
      ]
     },
     "metadata": {
      "needs_background": "light"
     },
     "output_type": "display_data"
    }
   ],
   "source": [
    "# Plot histogram with the data:\n",
    "fig, ax = plt.subplots(1, 1)\n",
    "ax.hist(mean_samps, density=True, histtype='stepfilled', alpha=0.9, bins = 50)\n",
    "plt.show()"
   ]
  },
  {
   "cell_type": "code",
   "execution_count": 67,
   "id": "406894c9",
   "metadata": {},
   "outputs": [
    {
     "data": {
      "text/plain": [
       "0.997"
      ]
     },
     "execution_count": 67,
     "metadata": {},
     "output_type": "execute_result"
    }
   ],
   "source": [
    "1 - 0.003"
   ]
  },
  {
   "cell_type": "markdown",
   "id": "a41060e8",
   "metadata": {},
   "source": [
    "#### (b)"
   ]
  },
  {
   "cell_type": "markdown",
   "id": "d331328c",
   "metadata": {},
   "source": [
    "This is a large probability suggesting that the sample mean of the data (which is 5) is more extreme than one would expect from a random draw from the distribution of $\\overline{T}$. Namely, we estimate that 99.7% of the distribution of $\\overline{T}$ sits to the right of our sample mean.  So it is unlikely that our sample is drawn from a Neg-Bin(2, 1/3)-population. We can test with a different choice of $p$.  Such as $p = 2/7$:"
   ]
  },
  {
   "cell_type": "code",
   "execution_count": 68,
   "id": "4392fceb",
   "metadata": {},
   "outputs": [
    {
     "name": "stdout",
     "output_type": "stream",
     "text": [
      "est_prob=0.579\n"
     ]
    }
   ],
   "source": [
    "mean_samps = [np.mean(neg_bin_samp(2, 2/7, 10)) for i in range(1000)]\n",
    "\n",
    "sample_mean = np.mean([2, 3, 7, 8, 2, 4, 7, 5, 5, 7])\n",
    "counts = 0\n",
    "\n",
    "for s in mean_samps:\n",
    "    if s <= sample_mean:\n",
    "        counts += 1\n",
    "\n",
    "est_prob = counts / 1000\n",
    "print(f\"{est_prob=}\")"
   ]
  },
  {
   "cell_type": "code",
   "execution_count": 69,
   "id": "10721a07",
   "metadata": {},
   "outputs": [
    {
     "data": {
      "image/png": "[encoded data removed]",
      "text/plain": [
       "<Figure size 432x288 with 1 Axes>"
      ]
     },
     "metadata": {
      "needs_background": "light"
     },
     "output_type": "display_data"
    }
   ],
   "source": [
    "# Plot histogram with the data:\n",
    "fig, ax = plt.subplots(1, 1)\n",
    "ax.hist(mean_samps, density=True, histtype='stepfilled', alpha=0.9, bins = 50)\n",
    "plt.show()"
   ]
  },
  {
   "cell_type": "markdown",
   "id": "eb911fbe",
   "metadata": {},
   "source": [
    "This probability is much larger and we see that our sample mean sits nicely in the middle of the histogram of our generated samples.  It is doesn't seem reasonable to reject the idea that our sample is a draw from this population."
   ]
  },
  {
   "cell_type": "markdown",
   "id": "3f054dfa",
   "metadata": {},
   "source": [
    "### Uppgift 7"
   ]
  },
  {
   "cell_type": "code",
   "execution_count": 93,
   "id": "e6afb193",
   "metadata": {},
   "outputs": [],
   "source": [
    "#generera ett utfall från multi(n; 1/6, 1/6, 1/6, 1/6, 1/6, 1/6):\n",
    "def samp_multi_1(n):\n",
    "    \n",
    "    utfall = []\n",
    "    \n",
    "    for i in range(n):\n",
    "        u = stats.uniform.rvs(size=1)\n",
    "        \n",
    "        t = 0\n",
    "        j = 0\n",
    "        \n",
    "        while t == 0:\n",
    "            if u > (j / 6):\n",
    "                j += 1\n",
    "            else:\n",
    "                utfall += [j]\n",
    "                t = 1\n",
    "    \n",
    "    return utfall\n",
    "                "
   ]
  },
  {
   "cell_type": "code",
   "execution_count": 96,
   "id": "d9acf18d",
   "metadata": {},
   "outputs": [],
   "source": [
    "#generera ett stickprov av storlek n från multi(4; 1/6, 1/6, 1/6, 1/6, 1/6, 1/6):\n",
    "def samp_multi_4(n):\n",
    "    \n",
    "    samp = []\n",
    "    \n",
    "    for i in range(n):\n",
    "        samp += [samp_multi_1(4)]\n",
    "        \n",
    "    return samp"
   ]
  },
  {
   "cell_type": "code",
   "execution_count": 138,
   "id": "7105810b",
   "metadata": {},
   "outputs": [],
   "source": [
    "stickprov = samp_multi_4(1000)"
   ]
  },
  {
   "cell_type": "code",
   "execution_count": 139,
   "id": "1cd72dc3",
   "metadata": {},
   "outputs": [],
   "source": [
    "# count the number of times each value appears in each outcome\n",
    "def count_vec(samp):\n",
    "    \n",
    "    counts = np.zeros((len(samp), 6))\n",
    "    \n",
    "    for j in range(len(samp)):\n",
    "        for i in range(1,7):\n",
    "            counts[j, i - 1] = samp[j].count(i)\n",
    "    \n",
    "    return counts"
   ]
  },
  {
   "cell_type": "code",
   "execution_count": 140,
   "id": "c65d0580",
   "metadata": {},
   "outputs": [],
   "source": [
    "samp_counts = count_vec(stickprov)"
   ]
  },
  {
   "cell_type": "code",
   "execution_count": 141,
   "id": "c4cebbbf",
   "metadata": {},
   "outputs": [
    {
     "name": "stdout",
     "output_type": "stream",
     "text": [
      "samp_mean_1=0.664\n",
      "samp_mean_2=0.652\n",
      "samp_mean_3=0.679\n",
      "samp_mean_4=0.629\n",
      "samp_mean_5=0.662\n",
      "samp_mean_6=0.714\n"
     ]
    }
   ],
   "source": [
    "# compute the requested sample means:\n",
    "samp_mean_1 = np.mean(samp_counts[:,0])\n",
    "samp_mean_2 = np.mean(samp_counts[:,1])\n",
    "samp_mean_3 = np.mean(samp_counts[:,2])\n",
    "samp_mean_4 = np.mean(samp_counts[:,3])\n",
    "samp_mean_5 = np.mean(samp_counts[:,4])\n",
    "samp_mean_6 = np.mean(samp_counts[:,5])\n",
    "\n",
    "print(f'{samp_mean_1=}')\n",
    "print(f'{samp_mean_2=}')\n",
    "print(f'{samp_mean_3=}')\n",
    "print(f'{samp_mean_4=}')\n",
    "print(f'{samp_mean_5=}')\n",
    "print(f'{samp_mean_6=}')"
   ]
  },
  {
   "cell_type": "markdown",
   "id": "172bcbbe",
   "metadata": {},
   "source": [
    "The expectation for each $X_i$ is 4*(1/6) = 2/3, which the data supports."
   ]
  },
  {
   "cell_type": "markdown",
   "id": "e16809e1",
   "metadata": {},
   "source": [
    "### Uppgift 10"
   ]
  },
  {
   "cell_type": "markdown",
   "id": "4ab632ad",
   "metadata": {},
   "source": [
    "#### (b)"
   ]
  },
  {
   "cell_type": "code",
   "execution_count": 174,
   "id": "25f1ddb7",
   "metadata": {},
   "outputs": [
    {
     "data": {
      "image/png": "[encoded data removed]",
      "text/plain": [
       "<Figure size 432x432 with 1 Axes>"
      ]
     },
     "metadata": {
      "needs_background": "light"
     },
     "output_type": "display_data"
    }
   ],
   "source": [
    "# The embedding of the parameter space $-\\infty < θ < \\infty$ into the two-dimensional space \n",
    "# of the natural parameters for $a = 1$:\n",
    "plt.rcParams[\"figure.figsize\"] = [6, 6]\n",
    "plt.rcParams[\"figure.autolayout\"] = True\n",
    "\n",
    "N = 100000\n",
    "t = np.linspace(0.001, 1, N)\n",
    "θ = t\n",
    "y, x = 1/(2*(θ**2)), 1/(2*θ)\n",
    "\n",
    "z = np.linspace(-1, -0.001, N)\n",
    "θ = z\n",
    "y2, x2 = 1/(2*(θ**2)), 1/(2*θ)\n",
    "\n",
    "fig, ax = plt.subplots()\n",
    "ax.plot(x, y, color='orange')\n",
    "ax.plot(x2, y2, color='orange')\n",
    "\n",
    "\n",
    "\n",
    "plt.ylabel('$η_1 = 1/(2(θ^2))$', fontsize=15)\n",
    "plt.xlabel('$η_2 = 1/(2θ)$', fontsize=15)\n",
    "\n",
    "plt.savefig(\"curved_exp_fam_upp_10_b.pdf\", bbox_inches='tight')\n",
    "\n",
    "plt.show()"
   ]
  },
  {
   "cell_type": "code",
   "execution_count": null,
   "id": "e2668e89",
   "metadata": {},
   "outputs": [],
   "source": []
  }
 ],
 "metadata": {
  "kernelspec": {
   "display_name": "Python 3",
   "language": "python",
   "name": "python3"
  },
  "language_info": {
   "codemirror_mode": {
    "name": "ipython",
    "version": 3
   },
   "file_extension": ".py",
   "mimetype": "text/x-python",
   "name": "python",
   "nbconvert_exporter": "python",
   "pygments_lexer": "ipython3",
   "version": "3.9.4"
  }
 },
 "nbformat": 4,
 "nbformat_minor": 5
}
