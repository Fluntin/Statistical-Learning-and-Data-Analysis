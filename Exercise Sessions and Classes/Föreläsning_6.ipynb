{
 "cells": [
  {
   "cell_type": "code",
   "execution_count": 1,
   "id": "90643441",
   "metadata": {},
   "outputs": [],
   "source": [
    "from scipy import stats\n",
    "import numpy as np\n",
    "import matplotlib.pyplot as plt\n",
    "import scipy.special"
   ]
  },
  {
   "cell_type": "markdown",
   "id": "ee6d4720",
   "metadata": {},
   "source": [
    "Vi genererar ett stickprov av storlek $1000$ från en $\\textrm{Gamma}(10,5)$-population:"
   ]
  },
  {
   "cell_type": "code",
   "execution_count": 181,
   "id": "5a483ed5",
   "metadata": {},
   "outputs": [
    {
     "data": {
      "text/plain": [
       "(array([ 21., 142., 251., 254., 188.,  81.,  41.,  14.,   6.,   2.]),\n",
       " array([0.56116785, 0.97065839, 1.38014892, 1.78963945, 2.19912998,\n",
       "        2.60862051, 3.01811105, 3.42760158, 3.83709211, 4.24658264,\n",
       "        4.65607317]),\n",
       " <BarContainer object of 10 artists>)"
      ]
     },
     "execution_count": 181,
     "metadata": {},
     "output_type": "execute_result"
    },
    {
     "data": {
      "image/png": "[encoded data removed]",
      "text/plain": [
       "<Figure size 432x288 with 1 Axes>"
      ]
     },
     "metadata": {
      "needs_background": "light"
     },
     "output_type": "display_data"
    }
   ],
   "source": [
    "samps = stats.gamma.rvs(size = 1000, a = 10, scale = 1/5)\n",
    "plt.hist(samps)"
   ]
  },
  {
   "cell_type": "markdown",
   "id": "4b92576e",
   "metadata": {},
   "source": [
    "### Exempel 6.3"
   ]
  },
  {
   "cell_type": "markdown",
   "id": "600eae88",
   "metadata": {},
   "source": [
    "Log-likelihoodfunktionen för stickprovet är\n",
    "\n",
    "$$\n",
    "\\begin{split}\n",
    "            \\ell(\\alpha | \\mathbf{x})\n",
    "            &= \\log \\prod_{i=1}^{1000}\\frac{5^\\alpha}{\\Gamma(\\alpha)}x_i^{\\alpha - 1}e^{-5x_i},\\\\\n",
    "            &= 1000\\alpha\\log(5) - 1000\\log(\\Gamma(\\alpha)) + (\\alpha - 1)\\sum_{i=1}^{1000}\\log(x_i) - 5(1000)\\overline{x}.\n",
    "\\end{split}\n",
    "$$\n",
    "\n",
    "Vi ska börja gradient descent metoden för att skatta ML-skattningen för $\\alpha$ med initiering $\\alpha_0 = 20$. Vi tar då $20$ iterationer som producerar $\\alpha_1,\\ldots, \\alpha_{20}$ från parameterrummet $\\alpha_1,\\ldots, \\alpha_{20}$ enligt formel\n",
    "\n",
    "$$\n",
    "\\alpha_{k+1} = \\alpha_k - n_kf^\\prime(\\alpha_k)\n",
    "$$\n",
    "\n",
    "där $n_k = 0.01$ är stegets storlek och\n",
    "\n",
    "$$\n",
    "f(\\alpha) = - \\ell^\\prime(\\alpha | \\mathbf{x}) = - 1000\\log(5) + (1000)\\frac{\\Gamma^\\prime(\\alpha)}{\\Gamma(\\alpha)} - \\sum_{i=1}^{1000}\\log(x_i).\n",
    "$$\n",
    "\n",
    "Funktionen $f(\\alpha)$ definieras som i följande:"
   ]
  },
  {
   "cell_type": "code",
   "execution_count": 173,
   "id": "5473a711",
   "metadata": {},
   "outputs": [],
   "source": [
    "def deriv(α, data):\n",
    "    n = len(data)\n",
    "    logsum = sum([np.log(x) for x in data])\n",
    "    \n",
    "    grad = n*np.log(5) - n*scipy.special.digamma(α) + logsum\n",
    "    \n",
    "    return -grad"
   ]
  },
  {
   "cell_type": "markdown",
   "id": "3047b4d9",
   "metadata": {},
   "source": [
    "Följande implementerar gradient descent metoden:"
   ]
  },
  {
   "cell_type": "code",
   "execution_count": 185,
   "id": "ca73cf82",
   "metadata": {},
   "outputs": [],
   "source": [
    "def graddes_alpha(init, stepsize, num_iter, data):\n",
    "    \n",
    "    alphas = [init]\n",
    "    \n",
    "    for i in range(num_iter):\n",
    "        alphas = alphas + [alphas[-1] - (stepsize)*deriv(alphas[-1], data)]\n",
    "        \n",
    "    return alphas"
   ]
  },
  {
   "cell_type": "code",
   "execution_count": 218,
   "id": "b3df5f39",
   "metadata": {},
   "outputs": [],
   "source": [
    "G = graddes_alpha(20, 0.01, 20, samps)"
   ]
  },
  {
   "cell_type": "code",
   "execution_count": 220,
   "id": "25e73901",
   "metadata": {},
   "outputs": [
    {
     "data": {
      "text/plain": [
       "[20,\n",
       " 12.72367206605674,\n",
       " 10.116054664474753,\n",
       " 9.906128468907632,\n",
       " 9.91672588656003,\n",
       " 9.916073695278607,\n",
       " 9.91611346774758,\n",
       " 9.91611104094024,\n",
       " 9.916111189012295,\n",
       " 9.916111179977635,\n",
       " 9.916111180528882,\n",
       " 9.916111180495253,\n",
       " 9.916111180497305,\n",
       " 9.916111180497179,\n",
       " 9.91611118049719,\n",
       " 9.916111180497186,\n",
       " 9.916111180497188,\n",
       " 9.916111180497184,\n",
       " 9.91611118049719,\n",
       " 9.916111180497186,\n",
       " 9.916111180497188]"
      ]
     },
     "execution_count": 220,
     "metadata": {},
     "output_type": "execute_result"
    }
   ],
   "source": [
    "G"
   ]
  },
  {
   "cell_type": "markdown",
   "id": "eb7bc84b",
   "metadata": {},
   "source": [
    "Vi kan plotta $\\alpha_1,\\ldots,\\alpha_{20}$ för att se konvergens:"
   ]
  },
  {
   "cell_type": "code",
   "execution_count": 236,
   "id": "bc192d88",
   "metadata": {},
   "outputs": [
    {
     "data": {
      "image/png": "[encoded data removed]",
      "text/plain": [
       "<Figure size 432x288 with 1 Axes>"
      ]
     },
     "metadata": {
      "needs_background": "light"
     },
     "output_type": "display_data"
    }
   ],
   "source": [
    "plt.plot(range(len(G)), G, 'o-r')\n",
    "plt.xlabel('$k$', fontsize=14)\n",
    "plt.ylabel('$α_k$', fontsize=14)\n",
    "plt.savefig(\"grad_des_1_dim.pdf\", bbox_inches='tight')\n",
    "plt.show()"
   ]
  },
  {
   "cell_type": "markdown",
   "id": "5992fac1",
   "metadata": {},
   "source": [
    "### Exempel 6.4"
   ]
  },
  {
   "cell_type": "markdown",
   "id": "c5a2ab19",
   "metadata": {},
   "source": [
    "Nu tar vi $\\mathbf{\\theta} = [\\alpha, \\lambda]^T$ och implementera gradient descent metoden för att skatta ML-skattningen för båda parametrar. Eftersom vi har mer än en parameter använder vi gradienten $\\nabla f(\\mathbf{\\theta})$ där $f(\\mathbf{\\theta}) = - \\ell(\\alpha, \\lambda | \\mathbf{x})$.  Gradienten är\n",
    "\n",
    "$$\n",
    "\\nabla f(\\mathbf{\\theta}) = \n",
    "    \\begin{bmatrix}\n",
    "        -1000\\log(\\lambda) + n\\Psi(\\alpha) - \\sum_{i = 1}^{1000} \\log(x_i)\\\\\n",
    "        -\\frac{n\\alpha}{\\lambda} + n\\overline{x}\n",
    "    \\end{bmatrix}\n",
    "$$\n",
    "där $\\Psi(\\alpha)$ betecknar digammfunktionen.\n",
    "\n",
    "Nu tar vi initieringen $\\mathbf{\\theta} = [8,3]$ och genererar $\\mathbf{\\theta}_1, \\ldots, \\mathbf{\\theta}_{1000}$ enligt formeln\n",
    "\n",
    "$$\n",
    "\\mathbf{\\theta}_{k+1} = \\mathbf{\\theta}_k - n_k\\nabla f(\\mathbf{\\theta}_k)\n",
    "$$\n",
    "\n",
    "med $n_k = 0.003$.\n",
    "\n",
    "\n",
    "Gradienten implementeras som i följande:"
   ]
  },
  {
   "cell_type": "code",
   "execution_count": 237,
   "id": "12489608",
   "metadata": {},
   "outputs": [],
   "source": [
    "def grad(θ,data):\n",
    "    α = θ[0]\n",
    "    λ = θ[1]\n",
    "    n = len(data)\n",
    "    mean = np.mean(data)\n",
    "    logsum = sum([np.log(x) for x in data])\n",
    "    \n",
    "    gradient = np.array([\n",
    "        -n*np.log(λ) + n*scipy.special.digamma(α) - logsum,\n",
    "        -n*α/λ + n*mean\n",
    "    ])\n",
    "    \n",
    "    return gradient"
   ]
  },
  {
   "cell_type": "markdown",
   "id": "31f6baf9",
   "metadata": {},
   "source": [
    "Gradient descent metoden implementeras som i följande:"
   ]
  },
  {
   "cell_type": "code",
   "execution_count": 238,
   "id": "18ffa912",
   "metadata": {},
   "outputs": [],
   "source": [
    "def graddes(init, stepsize, num_iter, data):\n",
    "    \n",
    "    thetas = [init]\n",
    "    \n",
    "    for i in range(num_iter):\n",
    "        thetas = thetas + [thetas[-1] - (stepsize)*grad(thetas[-1], data)]\n",
    "        \n",
    "    return thetas"
   ]
  },
  {
   "cell_type": "code",
   "execution_count": 310,
   "id": "ec41b77c",
   "metadata": {},
   "outputs": [],
   "source": [
    "initialization = np.array([8,3])\n",
    "G = graddes(initialization, 0.003, 1000, samps)"
   ]
  },
  {
   "cell_type": "code",
   "execution_count": 311,
   "id": "43c1ddc1",
   "metadata": {},
   "outputs": [],
   "source": [
    "Garray = np.array([list(x) for x in G])"
   ]
  },
  {
   "cell_type": "code",
   "execution_count": 312,
   "id": "785f0feb",
   "metadata": {},
   "outputs": [
    {
     "data": {
      "image/png": "[encoded data removed]",
      "text/plain": [
       "<Figure size 432x288 with 1 Axes>"
      ]
     },
     "metadata": {
      "needs_background": "light"
     },
     "output_type": "display_data"
    }
   ],
   "source": [
    "plt.plot(Garray[:,0], Garray[:,1], 'o-r', markersize = 3)\n",
    "plt.xlabel('$α_k$', fontsize=14)\n",
    "plt.ylabel('$λ_k$', fontsize=14)\n",
    "plt.savefig(\"grad_des_2_dim.pdf\", bbox_inches='tight')\n",
    "plt.show()"
   ]
  },
  {
   "cell_type": "markdown",
   "id": "a6c55bb0",
   "metadata": {},
   "source": [
    "Nu försöker vi flera olika val för initieringen och stegets storlek:"
   ]
  },
  {
   "cell_type": "code",
   "execution_count": 323,
   "id": "68b49378",
   "metadata": {},
   "outputs": [],
   "source": [
    "initialization1 = np.array([8,3])\n",
    "G1 = graddes(initialization1, 0.0045, 1000, samps)\n",
    "G1array = np.array([list(x) for x in G1])\n",
    "\n",
    "initialization2 = np.array([11,7])\n",
    "G2 = graddes(initialization2, 0.01, 1000, samps)\n",
    "G2array = np.array([list(x) for x in G2])\n",
    "\n",
    "initialization3 = np.array([1,6])\n",
    "G3 = graddes(initialization3, 0.0003, 1000, samps)\n",
    "G3array = np.array([list(x) for x in G3])"
   ]
  },
  {
   "cell_type": "code",
   "execution_count": 328,
   "id": "9a836670",
   "metadata": {},
   "outputs": [
    {
     "data": {
      "image/png": "[encoded data removed]",
      "text/plain": [
       "<Figure size 432x288 with 1 Axes>"
      ]
     },
     "metadata": {
      "needs_background": "light"
     },
     "output_type": "display_data"
    }
   ],
   "source": [
    "plt.plot(G1array[:,0], G1array[:,1], 'o-r', markersize = 3, label='$θ_0 = [8,3]$, $n_k = 0.0045$')\n",
    "plt.plot(G2array[:,0], G2array[:,1], 'o-b', markersize = 3, label='$θ_0 = [11,7]$, $n_k = 0.01$')\n",
    "plt.plot(G3array[:,0], G3array[:,1], 'o-g', markersize = 3, label='$θ_0 = [1,6]$, $n_k = 0.0003$')\n",
    "plt.xlabel('$α_k$', fontsize=14)\n",
    "plt.ylabel('$λ_k$', fontsize=14)\n",
    "plt.legend(loc='best', frameon=False)\n",
    "plt.savefig(\"grad_des_2_dim_mult.pdf\", bbox_inches='tight')\n",
    "plt.show()"
   ]
  },
  {
   "cell_type": "markdown",
   "id": "c823ded1",
   "metadata": {},
   "source": [
    "Vi ser att det är viktigt att testa flera val till initieringen och stegets storlek för att vara säkert att vi har konvergens till ett globalt maximum."
   ]
  }
 ],
 "metadata": {
  "kernelspec": {
   "display_name": "Python 3",
   "language": "python",
   "name": "python3"
  },
  "language_info": {
   "codemirror_mode": {
    "name": "ipython",
    "version": 3
   },
   "file_extension": ".py",
   "mimetype": "text/x-python",
   "name": "python",
   "nbconvert_exporter": "python",
   "pygments_lexer": "ipython3",
   "version": "3.9.4"
  }
 },
 "nbformat": 4,
 "nbformat_minor": 5
}
